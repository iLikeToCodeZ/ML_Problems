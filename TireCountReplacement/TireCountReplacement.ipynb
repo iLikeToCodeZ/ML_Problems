{
  "cells": [
    {
      "cell_type": "markdown",
      "metadata": {
        "id": "KE8M7EdnRuzy"
      },
      "source": [
        "# **Tire Count Replacement**\n",
        "### Author: *Zacchaeus Williams*\n",
        "### Date: 02/25/2021\n",
        "\n",
        "The objective of this case study is that given the tables `assigntarget_exception`, `assigntarget_tire`, and `tread_depth_lk`, write a Python script that will **classify how many full-sized replacement tires should be ordered** considering pre-defined features.\n",
        "\n",
        "## Import Libraries"
      ]
    },
    {
      "cell_type": "code",
      "execution_count": 254,
      "metadata": {
        "id": "J6ybY0ZP96ZP"
      },
      "outputs": [],
      "source": [
        "import os\n",
        "import pandas as pd\n",
        "pd.set_option(\"display.max_rows\", None, \"display.max_columns\", None)\n",
        "import numpy as np\n",
        "import tensorflow as tf\n",
        "from tensorflow.keras.metrics import BinaryAccuracy, AUC\n",
        "from tensorflow.keras.models import Sequential, Model\n",
        "from tensorflow.keras.layers import Dense, Dropout, BatchNormalization, Input, DenseFeatures, concatenate\n",
        "from tensorflow.keras.regularizers import l1, l2, l1_l2\n",
        "from tensorflow.keras.optimizers import Adam\n",
        "from tensorflow.keras.callbacks import ModelCheckpoint, EarlyStopping, ReduceLROnPlateau\n",
        "from tensorflow.keras.layers.experimental.preprocessing import Normalization, StringLookup, CategoryEncoding, IntegerLookup\n",
        "from sklearn.preprocessing import StandardScaler, MinMaxScaler, LabelEncoder, OneHotEncoder\n",
        "from sklearn.ensemble import RandomForestClassifier\n",
        "from sklearn.model_selection import train_test_split, GridSearchCV\n",
        "from sklearn.metrics import roc_curve, auc, precision_recall_curve, average_precision_score, f1_score, confusion_matrix, make_scorer, accuracy_score, roc_auc_score, ConfusionMatrixDisplay\n",
        "import matplotlib.pyplot as plt\n",
        "%matplotlib inline\n",
        "import seaborn as sns\n",
        "import warnings\n",
        "warnings.filterwarnings(\"ignore\")"
      ]
    },
    {
      "cell_type": "markdown",
      "metadata": {
        "id": "bx7NNH8cTJba"
      },
      "source": [
        "## Read Data into Environment\n",
        "\n",
        "I use **pandas** here to open the doors of it's data manipulation capabilities. However, there are other more efficient ways to read in this type of data for more robust automated ML pipelines."
      ]
    },
    {
      "cell_type": "code",
      "execution_count": 3,
      "metadata": {
        "colab": {
          "base_uri": "https://localhost:8080/"
        },
        "id": "cg3f19s3_EjK",
        "outputId": "15bf9f23-31c1-44d3-f5d8-abe55f724b58"
      },
      "outputs": [
        {
          "name": "stdout",
          "output_type": "stream",
          "text": [
            "Shape of Exception Data  : (23789, 4)\n",
            "Shape of Tire Data       : (10000, 10)\n",
            "Shape of Tread Depth Data: (62, 4)\n",
            "Shape of Vehicle Data    : (1978, 3)\n"
          ]
        }
      ],
      "source": [
        "assigntarget_exception = pd.read_csv('assigntarget_exception.csv')\n",
        "assigntarget_tire = pd.read_csv('assigntarget_tire.csv')\n",
        "tread_depth_lk = pd.read_csv('tread_depth_lk.csv')\n",
        "vehicle = pd.read_csv('vehicle.csv')\n",
        "\n",
        "print(f'Shape of Exception Data  : {assigntarget_exception.shape}')\n",
        "print(f'Shape of Tire Data       : {assigntarget_tire.shape}')\n",
        "print(f'Shape of Tread Depth Data: {tread_depth_lk.shape}')\n",
        "print(f'Shape of Vehicle Data    : {vehicle.shape}')"
      ]
    },
    {
      "cell_type": "code",
      "execution_count": 5,
      "metadata": {
        "colab": {
          "base_uri": "https://localhost:8080/"
        },
        "id": "W-9FkxgV_zV-",
        "outputId": "d9849038-375b-4233-9dd0-b8c6ab742f12"
      },
      "outputs": [
        {
          "name": "stdout",
          "output_type": "stream",
          "text": [
            "Index(['assign_target_id', 'part_code', 'damage_code', 'severity_code'], dtype='object')\n",
            "Index(['assigntarget_tire_id', 'assign_target_id', 'tire_brand_guid',\n",
            "       'rim_size_guid', 'lateral_position_type', 'longitude_position_type',\n",
            "       'secondary_position_type', 'tread_depth_guid', 'create_userguid',\n",
            "       'create_date'],\n",
            "      dtype='object')\n",
            "Index(['tread_depth_guid', 'name', 'create_userguid', 'create_date'], dtype='object')\n",
            "Index(['assign_target_id', 'model_year', 'mileage'], dtype='object')\n"
          ]
        }
      ],
      "source": [
        "# lowercase all columns to make joining the dataframes easier\n",
        "\n",
        "assigntarget_tire.columns = [c.lower() for c in assigntarget_tire.columns]\n",
        "tread_depth_lk.columns = [c.lower() for c in tread_depth_lk.columns]\n",
        "\n",
        "for c in [assigntarget_exception, assigntarget_tire, tread_depth_lk, vehicle]:\n",
        "    print(c.columns)"
      ]
    },
    {
      "cell_type": "code",
      "execution_count": 184,
      "metadata": {
        "colab": {
          "base_uri": "https://localhost:8080/",
          "height": 496
        },
        "id": "Y5tYwvwyBcrx",
        "outputId": "abca497b-2b7d-4c1c-dc59-276c4108fc00"
      },
      "outputs": [
        {
          "name": "stdout",
          "output_type": "stream",
          "text": [
            "Joined Data Shape: (118394, 16)\n"
          ]
        },
        {
          "data": {
            "text/html": [
              "<div>\n",
              "<style scoped>\n",
              "    .dataframe tbody tr th:only-of-type {\n",
              "        vertical-align: middle;\n",
              "    }\n",
              "\n",
              "    .dataframe tbody tr th {\n",
              "        vertical-align: top;\n",
              "    }\n",
              "\n",
              "    .dataframe thead th {\n",
              "        text-align: right;\n",
              "    }\n",
              "</style>\n",
              "<table border=\"1\" class=\"dataframe\">\n",
              "  <thead>\n",
              "    <tr style=\"text-align: right;\">\n",
              "      <th></th>\n",
              "      <th>assign_target_id</th>\n",
              "      <th>part_code</th>\n",
              "      <th>damage_code</th>\n",
              "      <th>severity_code</th>\n",
              "      <th>assigntarget_tire_id</th>\n",
              "      <th>tire_brand_guid</th>\n",
              "      <th>rim_size_guid</th>\n",
              "      <th>lateral_position_type</th>\n",
              "      <th>longitude_position_type</th>\n",
              "      <th>secondary_position_type</th>\n",
              "      <th>tread_depth_guid</th>\n",
              "      <th>create_userguid</th>\n",
              "      <th>create_date</th>\n",
              "      <th>model_year</th>\n",
              "      <th>mileage</th>\n",
              "      <th>name</th>\n",
              "    </tr>\n",
              "  </thead>\n",
              "  <tbody>\n",
              "    <tr>\n",
              "      <th>0</th>\n",
              "      <td>13780040</td>\n",
              "      <td>8313</td>\n",
              "      <td>17</td>\n",
              "      <td>69</td>\n",
              "      <td>56374318</td>\n",
              "      <td>FDD070AF-647C-944F-83B4-52346E9626B3</td>\n",
              "      <td>46D36859-AE06-E54F-8D70-3D4CB2165F9C</td>\n",
              "      <td>LEFT</td>\n",
              "      <td>REAR</td>\n",
              "      <td>(null)</td>\n",
              "      <td>177539E2-ACD0-A34F-9131-F430FF9439CC</td>\n",
              "      <td>867B3488-5AAF-4FC4-B85B-19402E3C47EC</td>\n",
              "      <td>2020-01-01 15:59:42</td>\n",
              "      <td>2018</td>\n",
              "      <td>1.0</td>\n",
              "      <td>8/32\"</td>\n",
              "    </tr>\n",
              "    <tr>\n",
              "      <th>1</th>\n",
              "      <td>13780040</td>\n",
              "      <td>8313</td>\n",
              "      <td>17</td>\n",
              "      <td>69</td>\n",
              "      <td>56374319</td>\n",
              "      <td>FDD070AF-647C-944F-83B4-52346E9626B3</td>\n",
              "      <td>46D36859-AE06-E54F-8D70-3D4CB2165F9C</td>\n",
              "      <td>LEFT</td>\n",
              "      <td>SECONDAXLE</td>\n",
              "      <td>(null)</td>\n",
              "      <td>177539E2-ACD0-A34F-9131-F430FF9439CC</td>\n",
              "      <td>867B3488-5AAF-4FC4-B85B-19402E3C47EC</td>\n",
              "      <td>2020-01-01 15:59:42</td>\n",
              "      <td>2018</td>\n",
              "      <td>1.0</td>\n",
              "      <td>8/32\"</td>\n",
              "    </tr>\n",
              "    <tr>\n",
              "      <th>2</th>\n",
              "      <td>13780040</td>\n",
              "      <td>8313</td>\n",
              "      <td>17</td>\n",
              "      <td>69</td>\n",
              "      <td>56374320</td>\n",
              "      <td>FDD070AF-647C-944F-83B4-52346E9626B3</td>\n",
              "      <td>46D36859-AE06-E54F-8D70-3D4CB2165F9C</td>\n",
              "      <td>RIGHT</td>\n",
              "      <td>REAR</td>\n",
              "      <td>(null)</td>\n",
              "      <td>177539E2-ACD0-A34F-9131-F430FF9439CC</td>\n",
              "      <td>867B3488-5AAF-4FC4-B85B-19402E3C47EC</td>\n",
              "      <td>2020-01-01 15:59:42</td>\n",
              "      <td>2018</td>\n",
              "      <td>1.0</td>\n",
              "      <td>8/32\"</td>\n",
              "    </tr>\n",
              "    <tr>\n",
              "      <th>3</th>\n",
              "      <td>13780040</td>\n",
              "      <td>8313</td>\n",
              "      <td>17</td>\n",
              "      <td>69</td>\n",
              "      <td>56374321</td>\n",
              "      <td>FDD070AF-647C-944F-83B4-52346E9626B3</td>\n",
              "      <td>46D36859-AE06-E54F-8D70-3D4CB2165F9C</td>\n",
              "      <td>RIGHT</td>\n",
              "      <td>SECONDAXLE</td>\n",
              "      <td>(null)</td>\n",
              "      <td>177539E2-ACD0-A34F-9131-F430FF9439CC</td>\n",
              "      <td>867B3488-5AAF-4FC4-B85B-19402E3C47EC</td>\n",
              "      <td>2020-01-01 15:59:42</td>\n",
              "      <td>2018</td>\n",
              "      <td>1.0</td>\n",
              "      <td>8/32\"</td>\n",
              "    </tr>\n",
              "    <tr>\n",
              "      <th>4</th>\n",
              "      <td>13780040</td>\n",
              "      <td>8151</td>\n",
              "      <td>89</td>\n",
              "      <td>15</td>\n",
              "      <td>56374318</td>\n",
              "      <td>FDD070AF-647C-944F-83B4-52346E9626B3</td>\n",
              "      <td>46D36859-AE06-E54F-8D70-3D4CB2165F9C</td>\n",
              "      <td>LEFT</td>\n",
              "      <td>REAR</td>\n",
              "      <td>(null)</td>\n",
              "      <td>177539E2-ACD0-A34F-9131-F430FF9439CC</td>\n",
              "      <td>867B3488-5AAF-4FC4-B85B-19402E3C47EC</td>\n",
              "      <td>2020-01-01 15:59:42</td>\n",
              "      <td>2018</td>\n",
              "      <td>1.0</td>\n",
              "      <td>8/32\"</td>\n",
              "    </tr>\n",
              "  </tbody>\n",
              "</table>\n",
              "</div>"
            ],
            "text/plain": [
              "   assign_target_id  part_code  damage_code  severity_code  \\\n",
              "0          13780040       8313           17             69   \n",
              "1          13780040       8313           17             69   \n",
              "2          13780040       8313           17             69   \n",
              "3          13780040       8313           17             69   \n",
              "4          13780040       8151           89             15   \n",
              "\n",
              "   assigntarget_tire_id                       tire_brand_guid  \\\n",
              "0              56374318  FDD070AF-647C-944F-83B4-52346E9626B3   \n",
              "1              56374319  FDD070AF-647C-944F-83B4-52346E9626B3   \n",
              "2              56374320  FDD070AF-647C-944F-83B4-52346E9626B3   \n",
              "3              56374321  FDD070AF-647C-944F-83B4-52346E9626B3   \n",
              "4              56374318  FDD070AF-647C-944F-83B4-52346E9626B3   \n",
              "\n",
              "                          rim_size_guid lateral_position_type  \\\n",
              "0  46D36859-AE06-E54F-8D70-3D4CB2165F9C                  LEFT   \n",
              "1  46D36859-AE06-E54F-8D70-3D4CB2165F9C                  LEFT   \n",
              "2  46D36859-AE06-E54F-8D70-3D4CB2165F9C                 RIGHT   \n",
              "3  46D36859-AE06-E54F-8D70-3D4CB2165F9C                 RIGHT   \n",
              "4  46D36859-AE06-E54F-8D70-3D4CB2165F9C                  LEFT   \n",
              "\n",
              "  longitude_position_type secondary_position_type  \\\n",
              "0                    REAR                  (null)   \n",
              "1              SECONDAXLE                  (null)   \n",
              "2                    REAR                  (null)   \n",
              "3              SECONDAXLE                  (null)   \n",
              "4                    REAR                  (null)   \n",
              "\n",
              "                       tread_depth_guid                       create_userguid  \\\n",
              "0  177539E2-ACD0-A34F-9131-F430FF9439CC  867B3488-5AAF-4FC4-B85B-19402E3C47EC   \n",
              "1  177539E2-ACD0-A34F-9131-F430FF9439CC  867B3488-5AAF-4FC4-B85B-19402E3C47EC   \n",
              "2  177539E2-ACD0-A34F-9131-F430FF9439CC  867B3488-5AAF-4FC4-B85B-19402E3C47EC   \n",
              "3  177539E2-ACD0-A34F-9131-F430FF9439CC  867B3488-5AAF-4FC4-B85B-19402E3C47EC   \n",
              "4  177539E2-ACD0-A34F-9131-F430FF9439CC  867B3488-5AAF-4FC4-B85B-19402E3C47EC   \n",
              "\n",
              "           create_date  model_year  mileage   name  \n",
              "0  2020-01-01 15:59:42        2018      1.0  8/32\"  \n",
              "1  2020-01-01 15:59:42        2018      1.0  8/32\"  \n",
              "2  2020-01-01 15:59:42        2018      1.0  8/32\"  \n",
              "3  2020-01-01 15:59:42        2018      1.0  8/32\"  \n",
              "4  2020-01-01 15:59:42        2018      1.0  8/32\"  "
            ]
          },
          "execution_count": 184,
          "metadata": {
            "tags": []
          },
          "output_type": "execute_result"
        }
      ],
      "source": [
        "# Inner Join dataframes to ensure I gain as much information about the aggregated data as possible\n",
        "\n",
        "df = assigntarget_exception\\\n",
        "        .merge(assigntarget_tire, on='assign_target_id')\\\n",
        "        .merge(vehicle, on='assign_target_id')\\\n",
        "        .merge(tread_depth_lk[['tread_depth_guid', 'name']], on='tread_depth_guid')\n",
        "\n",
        "print(f'Joined Data Shape: {df.shape}')\n",
        "df.head()"
      ]
    },
    {
      "cell_type": "code",
      "execution_count": 185,
      "metadata": {
        "colab": {
          "base_uri": "https://localhost:8080/"
        },
        "id": "4RHPUZc5CUOv",
        "outputId": "edbf5fb3-e8c7-4da5-f37c-cfa9af34d600"
      },
      "outputs": [
        {
          "name": "stdout",
          "output_type": "stream",
          "text": [
            "<class 'pandas.core.frame.DataFrame'>\n",
            "Int64Index: 118394 entries, 0 to 118393\n",
            "Data columns (total 16 columns):\n",
            " #   Column                   Non-Null Count   Dtype  \n",
            "---  ------                   --------------   -----  \n",
            " 0   assign_target_id         118394 non-null  int64  \n",
            " 1   part_code                118394 non-null  int64  \n",
            " 2   damage_code              118394 non-null  int64  \n",
            " 3   severity_code            118394 non-null  int64  \n",
            " 4   assigntarget_tire_id     118394 non-null  int64  \n",
            " 5   tire_brand_guid          118394 non-null  object \n",
            " 6   rim_size_guid            118394 non-null  object \n",
            " 7   lateral_position_type    118394 non-null  object \n",
            " 8   longitude_position_type  118394 non-null  object \n",
            " 9   secondary_position_type  118394 non-null  object \n",
            " 10  tread_depth_guid         118394 non-null  object \n",
            " 11  create_userguid          118394 non-null  object \n",
            " 12  create_date              118394 non-null  object \n",
            " 13  model_year               118394 non-null  int64  \n",
            " 14  mileage                  118394 non-null  float64\n",
            " 15  name                     118394 non-null  object \n",
            "dtypes: float64(1), int64(6), object(9)\n",
            "memory usage: 15.4+ MB\n"
          ]
        }
      ],
      "source": [
        "df.info()"
      ]
    },
    {
      "cell_type": "markdown",
      "metadata": {
        "id": "RrMAek8PUoWC"
      },
      "source": [
        "Only **full-sized** tires are required for this experiment, therefore I remove information about `SPARE` and `INSIDE` tires from my dataset."
      ]
    },
    {
      "cell_type": "code",
      "execution_count": 186,
      "metadata": {
        "colab": {
          "base_uri": "https://localhost:8080/"
        },
        "id": "7ctLQ_QyELZn",
        "outputId": "012430e9-b6c8-41cf-f23c-4483d06f30ec"
      },
      "outputs": [
        {
          "name": "stdout",
          "output_type": "stream",
          "text": [
            "Dropping 42 duplicate rows in the dataframe...\n",
            "Done!\n",
            "New Data Shape: (94787, 16)\n"
          ]
        }
      ],
      "source": [
        "print(f'Dropping {len(df)-len(df.drop_duplicates())} duplicate rows in the dataframe...')\n",
        "df = df[df.secondary_position_type=='(null)']\n",
        "df = df.drop_duplicates()\n",
        "print('Done!')\n",
        "print(f'New Data Shape: {df.shape}')"
      ]
    },
    {
      "cell_type": "markdown",
      "metadata": {
        "id": "861ZkCxwVPGS"
      },
      "source": [
        "As per the instructions, a tire will need to be replaced considering the following:\n",
        "\n",
        "- It has tread depth 3/32\" or less **OR**\n",
        "- `part_code` = 1290, `damage_code` = 10, `severity_code` = 71 (left front tire has low tread depth and needs replaced)\n",
        "- `part_code` = 1300, `damage_code` = 10, `severity_code` = 71 (left rear tire has low tread depth and needs replaced) \n",
        "- `part_code` = 1310, `damage_code` = 10, `severity_code` = 71 (right front tire has low tread depth and needs replaced)\n",
        "- `part_code` = 1320, `damage_code` = 10, `severity_code` = 71 (right rear tire has low tread depth and needs replaced)\n",
        "\n",
        "To ensure I develop this criteria correctly, I'd need to parse the `name` column to satisfy the first point."
      ]
    },
    {
      "cell_type": "code",
      "execution_count": 187,
      "metadata": {
        "colab": {
          "base_uri": "https://localhost:8080/"
        },
        "id": "xu6jwOeyF7Nd",
        "outputId": "b96157b7-1c5d-4438-aaf8-7e1f7b67189e"
      },
      "outputs": [
        {
          "data": {
            "text/plain": [
              "5/32\"               15041\n",
              "6/32\"               14980\n",
              "7/32\"               13654\n",
              "4/32\"               11413\n",
              "8/32\"               10354\n",
              "3/32\"                8991\n",
              "9/32\"                5506\n",
              "2/32\"                4750\n",
              "10/32\"               2959\n",
              "1/32\"                2269\n",
              "0/32\"                1625\n",
              "12/32\"               1397\n",
              "11/32\"                979\n",
              "13/32\"                274\n",
              "14/32\"                195\n",
              "15/32\"                129\n",
              "18/32\"                 57\n",
              "17/32\"                 56\n",
              "Worn (<3/32\")          54\n",
              "2 mm                   36\n",
              "1 mm                   30\n",
              "Replace (<3/32\")       18\n",
              "Worn (2/32\")           11\n",
              "3 mm                    6\n",
              "16/32\"                  3\n",
              "Name: name, dtype: int64"
            ]
          },
          "execution_count": 187,
          "metadata": {
            "tags": []
          },
          "output_type": "execute_result"
        }
      ],
      "source": [
        "df.name.value_counts()"
      ]
    },
    {
      "cell_type": "code",
      "execution_count": 188,
      "metadata": {
        "colab": {
          "base_uri": "https://localhost:8080/"
        },
        "id": "yqB7QsXZU2Df",
        "outputId": "e3b6d786-7086-46eb-97ce-4d694b374626"
      },
      "outputs": [
        {
          "data": {
            "text/plain": [
              "17784"
            ]
          },
          "execution_count": 188,
          "metadata": {
            "tags": []
          },
          "output_type": "execute_result"
        }
      ],
      "source": [
        "len(df[df.name.isin(['Worn (<3/32\")', 'Replace (<3/32\")', 'Worn (2/32\")', '0/32\"', '1/32\"', '2/32\"', '3/32\"', '1 mm', '2 mm'])])"
      ]
    },
    {
      "cell_type": "markdown",
      "metadata": {
        "id": "iTMA56D_WT2g"
      },
      "source": [
        "The code for the last 4 points are fairly simple to query/filter."
      ]
    },
    {
      "cell_type": "code",
      "execution_count": 189,
      "metadata": {
        "colab": {
          "base_uri": "https://localhost:8080/"
        },
        "id": "rv4dE-ClU2fB",
        "outputId": "1d57691e-70ac-4037-95f2-eb9cacea74eb"
      },
      "outputs": [
        {
          "data": {
            "text/plain": [
              "2684"
            ]
          },
          "execution_count": 189,
          "metadata": {
            "tags": []
          },
          "output_type": "execute_result"
        }
      ],
      "source": [
        "len(df[(df['part_code'].isin([1290,1300,1310,1320])) & (df['damage_code']==10) & (df['severity_code']==71)])"
      ]
    },
    {
      "cell_type": "markdown",
      "metadata": {
        "id": "6mUwq-OwWvrg"
      },
      "source": [
        "Putting it all together in a function to apply to the entire dataset. The output is a new column that will establish whether a particular tire and it's features will need to be replaced or not."
      ]
    },
    {
      "cell_type": "code",
      "execution_count": 191,
      "metadata": {
        "colab": {
          "base_uri": "https://localhost:8080/",
          "height": 479
        },
        "id": "zuwEYdNmXJmS",
        "outputId": "4f403886-fb15-4964-c629-006bad6a3bc6"
      },
      "outputs": [
        {
          "data": {
            "text/html": [
              "<div>\n",
              "<style scoped>\n",
              "    .dataframe tbody tr th:only-of-type {\n",
              "        vertical-align: middle;\n",
              "    }\n",
              "\n",
              "    .dataframe tbody tr th {\n",
              "        vertical-align: top;\n",
              "    }\n",
              "\n",
              "    .dataframe thead th {\n",
              "        text-align: right;\n",
              "    }\n",
              "</style>\n",
              "<table border=\"1\" class=\"dataframe\">\n",
              "  <thead>\n",
              "    <tr style=\"text-align: right;\">\n",
              "      <th></th>\n",
              "      <th>assign_target_id</th>\n",
              "      <th>part_code</th>\n",
              "      <th>damage_code</th>\n",
              "      <th>severity_code</th>\n",
              "      <th>assigntarget_tire_id</th>\n",
              "      <th>tire_brand_guid</th>\n",
              "      <th>rim_size_guid</th>\n",
              "      <th>lateral_position_type</th>\n",
              "      <th>longitude_position_type</th>\n",
              "      <th>secondary_position_type</th>\n",
              "      <th>tread_depth_guid</th>\n",
              "      <th>create_userguid</th>\n",
              "      <th>create_date</th>\n",
              "      <th>model_year</th>\n",
              "      <th>mileage</th>\n",
              "      <th>name</th>\n",
              "      <th>needs_replaced</th>\n",
              "    </tr>\n",
              "  </thead>\n",
              "  <tbody>\n",
              "    <tr>\n",
              "      <th>0</th>\n",
              "      <td>13780040</td>\n",
              "      <td>8313</td>\n",
              "      <td>17</td>\n",
              "      <td>69</td>\n",
              "      <td>56374318</td>\n",
              "      <td>FDD070AF-647C-944F-83B4-52346E9626B3</td>\n",
              "      <td>46D36859-AE06-E54F-8D70-3D4CB2165F9C</td>\n",
              "      <td>LEFT</td>\n",
              "      <td>REAR</td>\n",
              "      <td>(null)</td>\n",
              "      <td>177539E2-ACD0-A34F-9131-F430FF9439CC</td>\n",
              "      <td>867B3488-5AAF-4FC4-B85B-19402E3C47EC</td>\n",
              "      <td>2020-01-01 15:59:42</td>\n",
              "      <td>2018</td>\n",
              "      <td>1.0</td>\n",
              "      <td>8/32\"</td>\n",
              "      <td>0</td>\n",
              "    </tr>\n",
              "    <tr>\n",
              "      <th>1</th>\n",
              "      <td>13780040</td>\n",
              "      <td>8313</td>\n",
              "      <td>17</td>\n",
              "      <td>69</td>\n",
              "      <td>56374319</td>\n",
              "      <td>FDD070AF-647C-944F-83B4-52346E9626B3</td>\n",
              "      <td>46D36859-AE06-E54F-8D70-3D4CB2165F9C</td>\n",
              "      <td>LEFT</td>\n",
              "      <td>SECONDAXLE</td>\n",
              "      <td>(null)</td>\n",
              "      <td>177539E2-ACD0-A34F-9131-F430FF9439CC</td>\n",
              "      <td>867B3488-5AAF-4FC4-B85B-19402E3C47EC</td>\n",
              "      <td>2020-01-01 15:59:42</td>\n",
              "      <td>2018</td>\n",
              "      <td>1.0</td>\n",
              "      <td>8/32\"</td>\n",
              "      <td>0</td>\n",
              "    </tr>\n",
              "    <tr>\n",
              "      <th>2</th>\n",
              "      <td>13780040</td>\n",
              "      <td>8313</td>\n",
              "      <td>17</td>\n",
              "      <td>69</td>\n",
              "      <td>56374320</td>\n",
              "      <td>FDD070AF-647C-944F-83B4-52346E9626B3</td>\n",
              "      <td>46D36859-AE06-E54F-8D70-3D4CB2165F9C</td>\n",
              "      <td>RIGHT</td>\n",
              "      <td>REAR</td>\n",
              "      <td>(null)</td>\n",
              "      <td>177539E2-ACD0-A34F-9131-F430FF9439CC</td>\n",
              "      <td>867B3488-5AAF-4FC4-B85B-19402E3C47EC</td>\n",
              "      <td>2020-01-01 15:59:42</td>\n",
              "      <td>2018</td>\n",
              "      <td>1.0</td>\n",
              "      <td>8/32\"</td>\n",
              "      <td>0</td>\n",
              "    </tr>\n",
              "    <tr>\n",
              "      <th>3</th>\n",
              "      <td>13780040</td>\n",
              "      <td>8313</td>\n",
              "      <td>17</td>\n",
              "      <td>69</td>\n",
              "      <td>56374321</td>\n",
              "      <td>FDD070AF-647C-944F-83B4-52346E9626B3</td>\n",
              "      <td>46D36859-AE06-E54F-8D70-3D4CB2165F9C</td>\n",
              "      <td>RIGHT</td>\n",
              "      <td>SECONDAXLE</td>\n",
              "      <td>(null)</td>\n",
              "      <td>177539E2-ACD0-A34F-9131-F430FF9439CC</td>\n",
              "      <td>867B3488-5AAF-4FC4-B85B-19402E3C47EC</td>\n",
              "      <td>2020-01-01 15:59:42</td>\n",
              "      <td>2018</td>\n",
              "      <td>1.0</td>\n",
              "      <td>8/32\"</td>\n",
              "      <td>0</td>\n",
              "    </tr>\n",
              "    <tr>\n",
              "      <th>4</th>\n",
              "      <td>13780040</td>\n",
              "      <td>8151</td>\n",
              "      <td>89</td>\n",
              "      <td>15</td>\n",
              "      <td>56374318</td>\n",
              "      <td>FDD070AF-647C-944F-83B4-52346E9626B3</td>\n",
              "      <td>46D36859-AE06-E54F-8D70-3D4CB2165F9C</td>\n",
              "      <td>LEFT</td>\n",
              "      <td>REAR</td>\n",
              "      <td>(null)</td>\n",
              "      <td>177539E2-ACD0-A34F-9131-F430FF9439CC</td>\n",
              "      <td>867B3488-5AAF-4FC4-B85B-19402E3C47EC</td>\n",
              "      <td>2020-01-01 15:59:42</td>\n",
              "      <td>2018</td>\n",
              "      <td>1.0</td>\n",
              "      <td>8/32\"</td>\n",
              "      <td>0</td>\n",
              "    </tr>\n",
              "  </tbody>\n",
              "</table>\n",
              "</div>"
            ],
            "text/plain": [
              "   assign_target_id  part_code  damage_code  severity_code  \\\n",
              "0          13780040       8313           17             69   \n",
              "1          13780040       8313           17             69   \n",
              "2          13780040       8313           17             69   \n",
              "3          13780040       8313           17             69   \n",
              "4          13780040       8151           89             15   \n",
              "\n",
              "   assigntarget_tire_id                       tire_brand_guid  \\\n",
              "0              56374318  FDD070AF-647C-944F-83B4-52346E9626B3   \n",
              "1              56374319  FDD070AF-647C-944F-83B4-52346E9626B3   \n",
              "2              56374320  FDD070AF-647C-944F-83B4-52346E9626B3   \n",
              "3              56374321  FDD070AF-647C-944F-83B4-52346E9626B3   \n",
              "4              56374318  FDD070AF-647C-944F-83B4-52346E9626B3   \n",
              "\n",
              "                          rim_size_guid lateral_position_type  \\\n",
              "0  46D36859-AE06-E54F-8D70-3D4CB2165F9C                  LEFT   \n",
              "1  46D36859-AE06-E54F-8D70-3D4CB2165F9C                  LEFT   \n",
              "2  46D36859-AE06-E54F-8D70-3D4CB2165F9C                 RIGHT   \n",
              "3  46D36859-AE06-E54F-8D70-3D4CB2165F9C                 RIGHT   \n",
              "4  46D36859-AE06-E54F-8D70-3D4CB2165F9C                  LEFT   \n",
              "\n",
              "  longitude_position_type secondary_position_type  \\\n",
              "0                    REAR                  (null)   \n",
              "1              SECONDAXLE                  (null)   \n",
              "2                    REAR                  (null)   \n",
              "3              SECONDAXLE                  (null)   \n",
              "4                    REAR                  (null)   \n",
              "\n",
              "                       tread_depth_guid                       create_userguid  \\\n",
              "0  177539E2-ACD0-A34F-9131-F430FF9439CC  867B3488-5AAF-4FC4-B85B-19402E3C47EC   \n",
              "1  177539E2-ACD0-A34F-9131-F430FF9439CC  867B3488-5AAF-4FC4-B85B-19402E3C47EC   \n",
              "2  177539E2-ACD0-A34F-9131-F430FF9439CC  867B3488-5AAF-4FC4-B85B-19402E3C47EC   \n",
              "3  177539E2-ACD0-A34F-9131-F430FF9439CC  867B3488-5AAF-4FC4-B85B-19402E3C47EC   \n",
              "4  177539E2-ACD0-A34F-9131-F430FF9439CC  867B3488-5AAF-4FC4-B85B-19402E3C47EC   \n",
              "\n",
              "           create_date  model_year  mileage   name  needs_replaced  \n",
              "0  2020-01-01 15:59:42        2018      1.0  8/32\"               0  \n",
              "1  2020-01-01 15:59:42        2018      1.0  8/32\"               0  \n",
              "2  2020-01-01 15:59:42        2018      1.0  8/32\"               0  \n",
              "3  2020-01-01 15:59:42        2018      1.0  8/32\"               0  \n",
              "4  2020-01-01 15:59:42        2018      1.0  8/32\"               0  "
            ]
          },
          "execution_count": 191,
          "metadata": {
            "tags": []
          },
          "output_type": "execute_result"
        }
      ],
      "source": [
        "def needs_replaced(df):\n",
        "    if df['name'] in ['Worn (<3/32\")', 'Replace (<3/32\")', 'Worn (2/32\")', '0/32\"', '1/32\"', '2/32\"', '3/32\"', '1 mm', '2 mm']:\n",
        "        return 1\n",
        "    elif (df['part_code'] in [1290,1300,1310,1320]) and (df['damage_code']==10) and (df['severity_code']==71):\n",
        "        return 1\n",
        "    else:\n",
        "        return 0\n",
        "\n",
        "df['needs_replaced'] = df.apply(needs_replaced, axis=1)\n",
        "df.head()"
      ]
    },
    {
      "cell_type": "code",
      "execution_count": 192,
      "metadata": {
        "colab": {
          "base_uri": "https://localhost:8080/"
        },
        "id": "wCYrKT5nUPxD",
        "outputId": "1af5cfa3-d83f-4e9d-fdf1-3de1d1f56349"
      },
      "outputs": [
        {
          "data": {
            "text/plain": [
              "0    75934\n",
              "1    18853\n",
              "Name: needs_replaced, dtype: int64"
            ]
          },
          "execution_count": 192,
          "metadata": {
            "tags": []
          },
          "output_type": "execute_result"
        }
      ],
      "source": [
        "df.needs_replaced.value_counts() # Checking the distribution of replaced tires (0 for False, 1 for True)"
      ]
    },
    {
      "cell_type": "code",
      "execution_count": 193,
      "metadata": {
        "colab": {
          "base_uri": "https://localhost:8080/"
        },
        "id": "LFx8QJokXHOL",
        "outputId": "73818161-2ed1-4d4e-a9a6-c48b76a3fbc4"
      },
      "outputs": [
        {
          "data": {
            "text/plain": [
              "0    0.801101\n",
              "1    0.198899\n",
              "Name: needs_replaced, dtype: float64"
            ]
          },
          "execution_count": 193,
          "metadata": {
            "tags": []
          },
          "output_type": "execute_result"
        }
      ],
      "source": [
        "df.needs_replaced.value_counts(normalize=True)"
      ]
    },
    {
      "cell_type": "markdown",
      "metadata": {
        "id": "bAnT2zUIXYRm"
      },
      "source": [
        "## Target Development\n",
        "\n",
        "Developing the target is quite tricky. This is due to the fact each sample in the dataset doesn't represent a single tire, but possibly many different variations of the same tire. Because of this, one variation of a specific tire on one vehicle (`assign_target_id`) may need to be replaced, but a different variation for the same vehicle will. \n",
        "\n",
        "The current `needs_replaced` variable can appear `True` 20+ times for a single vehicle although each vehicle only have 4 tires. This is partly because the variations between `part_code`, `damage_code`, and `severity_code` for a specific tire (`assigntarget_tire_id`) for a vehicle.\n",
        "\n",
        "To solve this, there were a sequence of transformations that needed to be done.\n",
        "\n",
        "- **Group by** vehicles (`assign_target_id`) and it's tires (`assigntarget_tire_id`), then sum up the number of tires that needs to be replaced (`needs_replaced`).\n",
        "- **Filter** for the vehicles that has at least 1 tire that needs to be replaced.\n",
        "- **Group by** the vehicles and count how many tires it has that needs to be replaced.\n",
        "- **Left join** the filtered dataset to the original dataset with the new target variable (`num_tires_replaced`), then fill the NAs of that column with zeros."
      ]
    },
    {
      "cell_type": "code",
      "execution_count": 220,
      "metadata": {
        "colab": {
          "base_uri": "https://localhost:8080/"
        },
        "id": "Y2ZUhmJRZI41",
        "outputId": "1c2f0c1e-6af3-4232-c8ce-efd687d614fa"
      },
      "outputs": [
        {
          "name": "stdout",
          "output_type": "stream",
          "text": [
            "Final Data Shape: (94787, 17)\n"
          ]
        }
      ],
      "source": [
        "num_replaced_df = df.groupby(['assign_target_id', 'assigntarget_tire_id'])['needs_replaced'].apply(lambda x: (x==1).sum()).reset_index(name='num_replaced')\n",
        "num_replaced_df = num_replaced_df[num_replaced_df['num_replaced']>0]\n",
        "num_replaced_df = num_replaced_df.groupby('assign_target_id')['num_replaced'].count().reset_index(name='num_tires_replaced')\n",
        "\n",
        "df_final = df.merge(num_replaced_df, on='assign_target_id', how='left')\n",
        "df_final = df_final.drop('needs_replaced', axis=1)\n",
        "df_final['num_tires_replaced'] = df_final['num_tires_replaced'].fillna(0).astype(int)\n",
        "\n",
        "print(f'Final Data Shape: {df_final.shape}')"
      ]
    },
    {
      "cell_type": "markdown",
      "metadata": {
        "id": "RTyKlyPseGuS"
      },
      "source": [
        "There is a significant imbalance, as expected, for the number of replacements."
      ]
    },
    {
      "cell_type": "code",
      "execution_count": 221,
      "metadata": {
        "colab": {
          "base_uri": "https://localhost:8080/"
        },
        "id": "L2TTy83PkCkw",
        "outputId": "98315e52-525d-4e67-c0c5-009eec2f798e"
      },
      "outputs": [
        {
          "data": {
            "text/plain": [
              "0    61373\n",
              "4    26640\n",
              "2     2968\n",
              "1     2666\n",
              "3     1140\n",
              "Name: num_tires_replaced, dtype: int64"
            ]
          },
          "execution_count": 221,
          "metadata": {
            "tags": []
          },
          "output_type": "execute_result"
        }
      ],
      "source": [
        "df_final.num_tires_replaced.value_counts()"
      ]
    },
    {
      "cell_type": "markdown",
      "metadata": {
        "id": "MImFBGvheTox"
      },
      "source": [
        "## **Zack's Exploratory Data Analysis**\n",
        "My overall objective when I first look to develop a model is to form a **baseline**. To do so, my initial EDA and even *Feature Engineering* is minimal. The reason behind this is I want to really observe how good of a model I can develop without extensive engineering or manipulating of the data.\n",
        "\n",
        "My EDA process will go as follows:\n",
        "\n",
        "* **Split Data by Numerical & Categorical Features:** This really makes analysis, feature engineering, and modeling quite easy for to keep the features organized.\n",
        "* **Observe the Target's distribution to see if I will need to handle data imbalance:** Data Imbalance is a very common problem in industry so its imperative check. Solving this can be quite hard as I'll have to choose between Oversampling & Undersampling to rebalance the data. This could possibly skew your model's results.\n",
        "* **Check for Missing Values:** Because data isn't always clean and data quality can sometimes be poor, understand how much of the data is missing is key to the cleaning phase.\n",
        "* **Check for High Cardinality:** If features have high cardinality, it could damage the model. It's important to either remove or bin the features.\n",
        "* **Check Numerical Distributions:** The distributions can help identify a few things. One is how to handle its missing values if needed. Another is to see if that numerical value should actually be categorical. One last reason to look at numerical distributions is to see whether the feature has very low variation in its values which let's us know that the feature doesn't carry much information for our model to learn from.\n",
        "* **Check Correlation Matrix:** Features that are highly correlated doesn't need to be present in our model.\n",
        "\n"
      ]
    },
    {
      "cell_type": "code",
      "execution_count": 222,
      "metadata": {
        "colab": {
          "base_uri": "https://localhost:8080/"
        },
        "id": "_WQQndwREuwf",
        "outputId": "17320e66-67d2-4931-e75c-d192bb2efeb7"
      },
      "outputs": [
        {
          "name": "stdout",
          "output_type": "stream",
          "text": [
            "['mileage']\n",
            "['assign_target_id', 'part_code', 'damage_code', 'severity_code', 'assigntarget_tire_id', 'tire_brand_guid', 'rim_size_guid', 'lateral_position_type', 'longitude_position_type', 'secondary_position_type', 'tread_depth_guid', 'create_userguid', 'create_date', 'model_year', 'name']\n"
          ]
        }
      ],
      "source": [
        "ignore_cols = ['assign_target_id', 'assigntarget_tire_id', 'secondary_position_type', 'create_date'] # initial columns I'm choosing to ignore\n",
        "\n",
        "def split_num_cat_features(df, target=None, defined_numerical_cols=None, defined_categorical_cols=None):\n",
        "    if defined_numerical_cols != None:\n",
        "        numerical_features = defined_numerical_cols\n",
        "    else: \n",
        "        numerical_features   = [col for col in df if df[col].dtype==float or df[col].dtype==int and col!=target]\n",
        "    \n",
        "    if defined_categorical_cols != None:\n",
        "        categorical_features = defined_categorical_cols\n",
        "    else: \n",
        "        categorical_features = [col for col in df.columns if col not in numerical_features and col!=target]\n",
        "    \n",
        "    return target, numerical_features, categorical_features\n",
        "\n",
        "defined_numerical_cols = ['mileage']\n",
        "target, numerical_features, categorical_features = split_num_cat_features(df_final, 'num_tires_replaced', \n",
        "                                                                          defined_numerical_cols=defined_numerical_cols)\n",
        "\n",
        "print(numerical_features)\n",
        "print(categorical_features)"
      ]
    },
    {
      "cell_type": "code",
      "execution_count": 206,
      "metadata": {
        "id": "ShMZvKOHFOYf"
      },
      "outputs": [],
      "source": [
        "# Missing values\n",
        "def check_missing_values(df, missing_thresh=60.0, zero_thresh=40.0):\n",
        "    missing_zeros_df = pd.DataFrame({\n",
        "        'percent_missing': round(df.isna().sum() * 100/len(df),2),\n",
        "        'percent_zero': round(df.isin([0]).sum() * 100 / len(df),2),\n",
        "        # 'percent_null': round(df.isnull().sum() * 100 / len(df),2)\n",
        "    }).sort_values(['percent_missing', 'percent_zero'], ascending=False)\n",
        "    \n",
        "    high_missing_zeros = missing_zeros_df[(missing_zeros_df.percent_missing > missing_thresh) \\\n",
        "                                          | (missing_zeros_df.percent_zero > zero_thresh)].index\n",
        "    \n",
        "    return missing_zeros_df, list(high_missing_zeros)\n",
        "\n",
        "# Plot Numerical Feature Distributions\n",
        "def plot_num_hist(df, c, i, bins=10):\n",
        "    plt.figure(i)\n",
        "    sns.distplot(df[c], bins=bins)\n",
        "    plt.title(f\"Distribution of {c.upper()} Feature... \")\n",
        "\n",
        "# Cardinality Table\n",
        "def create_cardinality_table(df, cat_features, threshold=0.05):\n",
        "    cardinality_df = pd.DataFrame(df[cat_features] \\\n",
        "                        .apply(pd.Series.nunique) \\\n",
        "                        .sort_values(ascending=False),\n",
        "                        columns=['Cardinality'])\n",
        "    high_card_cols = cardinality_df[cardinality_df.Cardinality > len(df)*threshold].index\n",
        "    return cardinality_df, list(high_card_cols)\n",
        "\n",
        "# Correlation Heatmap\n",
        "def check_correlation(df):\n",
        "    corrMatrix = df.corr()\n",
        "    f, ax = plt.subplots(figsize=(15, 10))\n",
        "    sns.heatmap(corrMatrix, annot=True, cmap=\"YlGnBu\")\n",
        "    plt.show()"
      ]
    },
    {
      "cell_type": "code",
      "execution_count": 207,
      "metadata": {
        "colab": {
          "base_uri": "https://localhost:8080/",
          "height": 593
        },
        "id": "2NHqGfPenVJ1",
        "outputId": "184a1620-c594-4c64-e059-63a16d2e8af0"
      },
      "outputs": [
        {
          "name": "stdout",
          "output_type": "stream",
          "text": [
            "Columns with High Missing/Zero Values: ['num_tires_replaced']\n"
          ]
        },
        {
          "data": {
            "text/html": [
              "<div>\n",
              "<style scoped>\n",
              "    .dataframe tbody tr th:only-of-type {\n",
              "        vertical-align: middle;\n",
              "    }\n",
              "\n",
              "    .dataframe tbody tr th {\n",
              "        vertical-align: top;\n",
              "    }\n",
              "\n",
              "    .dataframe thead th {\n",
              "        text-align: right;\n",
              "    }\n",
              "</style>\n",
              "<table border=\"1\" class=\"dataframe\">\n",
              "  <thead>\n",
              "    <tr style=\"text-align: right;\">\n",
              "      <th></th>\n",
              "      <th>percent_missing</th>\n",
              "      <th>percent_zero</th>\n",
              "    </tr>\n",
              "  </thead>\n",
              "  <tbody>\n",
              "    <tr>\n",
              "      <th>num_tires_replaced</th>\n",
              "      <td>0.0</td>\n",
              "      <td>64.75</td>\n",
              "    </tr>\n",
              "    <tr>\n",
              "      <th>assign_target_id</th>\n",
              "      <td>0.0</td>\n",
              "      <td>0.00</td>\n",
              "    </tr>\n",
              "    <tr>\n",
              "      <th>part_code</th>\n",
              "      <td>0.0</td>\n",
              "      <td>0.00</td>\n",
              "    </tr>\n",
              "    <tr>\n",
              "      <th>damage_code</th>\n",
              "      <td>0.0</td>\n",
              "      <td>0.00</td>\n",
              "    </tr>\n",
              "    <tr>\n",
              "      <th>severity_code</th>\n",
              "      <td>0.0</td>\n",
              "      <td>0.00</td>\n",
              "    </tr>\n",
              "    <tr>\n",
              "      <th>assigntarget_tire_id</th>\n",
              "      <td>0.0</td>\n",
              "      <td>0.00</td>\n",
              "    </tr>\n",
              "    <tr>\n",
              "      <th>tire_brand_guid</th>\n",
              "      <td>0.0</td>\n",
              "      <td>0.00</td>\n",
              "    </tr>\n",
              "    <tr>\n",
              "      <th>rim_size_guid</th>\n",
              "      <td>0.0</td>\n",
              "      <td>0.00</td>\n",
              "    </tr>\n",
              "    <tr>\n",
              "      <th>lateral_position_type</th>\n",
              "      <td>0.0</td>\n",
              "      <td>0.00</td>\n",
              "    </tr>\n",
              "    <tr>\n",
              "      <th>longitude_position_type</th>\n",
              "      <td>0.0</td>\n",
              "      <td>0.00</td>\n",
              "    </tr>\n",
              "    <tr>\n",
              "      <th>secondary_position_type</th>\n",
              "      <td>0.0</td>\n",
              "      <td>0.00</td>\n",
              "    </tr>\n",
              "    <tr>\n",
              "      <th>tread_depth_guid</th>\n",
              "      <td>0.0</td>\n",
              "      <td>0.00</td>\n",
              "    </tr>\n",
              "    <tr>\n",
              "      <th>create_userguid</th>\n",
              "      <td>0.0</td>\n",
              "      <td>0.00</td>\n",
              "    </tr>\n",
              "    <tr>\n",
              "      <th>create_date</th>\n",
              "      <td>0.0</td>\n",
              "      <td>0.00</td>\n",
              "    </tr>\n",
              "    <tr>\n",
              "      <th>model_year</th>\n",
              "      <td>0.0</td>\n",
              "      <td>0.00</td>\n",
              "    </tr>\n",
              "    <tr>\n",
              "      <th>mileage</th>\n",
              "      <td>0.0</td>\n",
              "      <td>0.00</td>\n",
              "    </tr>\n",
              "    <tr>\n",
              "      <th>name</th>\n",
              "      <td>0.0</td>\n",
              "      <td>0.00</td>\n",
              "    </tr>\n",
              "  </tbody>\n",
              "</table>\n",
              "</div>"
            ],
            "text/plain": [
              "                         percent_missing  percent_zero\n",
              "num_tires_replaced                   0.0         64.75\n",
              "assign_target_id                     0.0          0.00\n",
              "part_code                            0.0          0.00\n",
              "damage_code                          0.0          0.00\n",
              "severity_code                        0.0          0.00\n",
              "assigntarget_tire_id                 0.0          0.00\n",
              "tire_brand_guid                      0.0          0.00\n",
              "rim_size_guid                        0.0          0.00\n",
              "lateral_position_type                0.0          0.00\n",
              "longitude_position_type              0.0          0.00\n",
              "secondary_position_type              0.0          0.00\n",
              "tread_depth_guid                     0.0          0.00\n",
              "create_userguid                      0.0          0.00\n",
              "create_date                          0.0          0.00\n",
              "model_year                           0.0          0.00\n",
              "mileage                              0.0          0.00\n",
              "name                                 0.0          0.00"
            ]
          },
          "execution_count": 207,
          "metadata": {
            "tags": []
          },
          "output_type": "execute_result"
        }
      ],
      "source": [
        "missing_zeros_df, high_missing_zeros_cols = check_missing_values(df_final)\n",
        "print(f'Columns with High Missing/Zero Values: {high_missing_zeros_cols}')\n",
        "pd.DataFrame(missing_zeros_df)"
      ]
    },
    {
      "cell_type": "markdown",
      "metadata": {
        "id": "01KPCiEWfS-f"
      },
      "source": [
        "I noticed that missing values are labeled as `(null)` for this dataset, so I'd have to do a check for that value instead."
      ]
    },
    {
      "cell_type": "code",
      "execution_count": 212,
      "metadata": {
        "colab": {
          "base_uri": "https://localhost:8080/",
          "height": 531
        },
        "id": "3QcmjDCLnYd-",
        "outputId": "b1b0a4dc-0d93-4498-e352-3a1e2ee3efd1"
      },
      "outputs": [
        {
          "name": "stdout",
          "output_type": "stream",
          "text": [
            "Columns with High Cardinality: ['assigntarget_tire_id', 'assign_target_id', 'create_date']\n"
          ]
        },
        {
          "data": {
            "text/html": [
              "<div>\n",
              "<style scoped>\n",
              "    .dataframe tbody tr th:only-of-type {\n",
              "        vertical-align: middle;\n",
              "    }\n",
              "\n",
              "    .dataframe tbody tr th {\n",
              "        vertical-align: top;\n",
              "    }\n",
              "\n",
              "    .dataframe thead th {\n",
              "        text-align: right;\n",
              "    }\n",
              "</style>\n",
              "<table border=\"1\" class=\"dataframe\">\n",
              "  <thead>\n",
              "    <tr style=\"text-align: right;\">\n",
              "      <th></th>\n",
              "      <th>Cardinality</th>\n",
              "    </tr>\n",
              "  </thead>\n",
              "  <tbody>\n",
              "    <tr>\n",
              "      <th>assigntarget_tire_id</th>\n",
              "      <td>7733</td>\n",
              "    </tr>\n",
              "    <tr>\n",
              "      <th>assign_target_id</th>\n",
              "      <td>1936</td>\n",
              "    </tr>\n",
              "    <tr>\n",
              "      <th>create_date</th>\n",
              "      <td>1782</td>\n",
              "    </tr>\n",
              "    <tr>\n",
              "      <th>part_code</th>\n",
              "      <td>805</td>\n",
              "    </tr>\n",
              "    <tr>\n",
              "      <th>create_userguid</th>\n",
              "      <td>396</td>\n",
              "    </tr>\n",
              "    <tr>\n",
              "      <th>damage_code</th>\n",
              "      <td>88</td>\n",
              "    </tr>\n",
              "    <tr>\n",
              "      <th>severity_code</th>\n",
              "      <td>55</td>\n",
              "    </tr>\n",
              "    <tr>\n",
              "      <th>tire_brand_guid</th>\n",
              "      <td>30</td>\n",
              "    </tr>\n",
              "    <tr>\n",
              "      <th>name</th>\n",
              "      <td>25</td>\n",
              "    </tr>\n",
              "    <tr>\n",
              "      <th>tread_depth_guid</th>\n",
              "      <td>25</td>\n",
              "    </tr>\n",
              "    <tr>\n",
              "      <th>model_year</th>\n",
              "      <td>24</td>\n",
              "    </tr>\n",
              "    <tr>\n",
              "      <th>rim_size_guid</th>\n",
              "      <td>14</td>\n",
              "    </tr>\n",
              "    <tr>\n",
              "      <th>longitude_position_type</th>\n",
              "      <td>4</td>\n",
              "    </tr>\n",
              "    <tr>\n",
              "      <th>lateral_position_type</th>\n",
              "      <td>3</td>\n",
              "    </tr>\n",
              "    <tr>\n",
              "      <th>secondary_position_type</th>\n",
              "      <td>1</td>\n",
              "    </tr>\n",
              "  </tbody>\n",
              "</table>\n",
              "</div>"
            ],
            "text/plain": [
              "                         Cardinality\n",
              "assigntarget_tire_id            7733\n",
              "assign_target_id                1936\n",
              "create_date                     1782\n",
              "part_code                        805\n",
              "create_userguid                  396\n",
              "damage_code                       88\n",
              "severity_code                     55\n",
              "tire_brand_guid                   30\n",
              "name                              25\n",
              "tread_depth_guid                  25\n",
              "model_year                        24\n",
              "rim_size_guid                     14\n",
              "longitude_position_type            4\n",
              "lateral_position_type              3\n",
              "secondary_position_type            1"
            ]
          },
          "execution_count": 212,
          "metadata": {
            "tags": []
          },
          "output_type": "execute_result"
        }
      ],
      "source": [
        "cardinality_df, high_card_cols = create_cardinality_table(df_final, categorical_features, threshold=0.01)\n",
        "print(f'Columns with High Cardinality: {high_card_cols}')\n",
        "pd.DataFrame(cardinality_df)"
      ]
    },
    {
      "cell_type": "code",
      "execution_count": 214,
      "metadata": {
        "colab": {
          "base_uri": "https://localhost:8080/",
          "height": 295
        },
        "id": "Hd11Sm9lnh1-",
        "outputId": "85505417-f040-4f31-d65b-4a47dd23cded"
      },
      "outputs": [
        {
          "data": {
            "image/png": "[encoded data removed]",
            "text/plain": [
              "<Figure size 432x288 with 1 Axes>"
            ]
          },
          "metadata": {
            "needs_background": "light",
            "tags": []
          },
          "output_type": "display_data"
        }
      ],
      "source": [
        "for i, n in enumerate(numerical_features):\n",
        "    plot_num_hist(df_final, n, i, bins=15)"
      ]
    },
    {
      "cell_type": "markdown",
      "metadata": {
        "id": "oCy76btJg-OD"
      },
      "source": [
        "## **Feature Engineering**"
      ]
    },
    {
      "cell_type": "code",
      "execution_count": 232,
      "metadata": {
        "colab": {
          "base_uri": "https://localhost:8080/",
          "height": 289
        },
        "id": "MsIuHHhDpc3f",
        "outputId": "76350444-0efa-458a-8788-5f432d8514c9"
      },
      "outputs": [
        {
          "data": {
            "text/html": [
              "<div>\n",
              "<style scoped>\n",
              "    .dataframe tbody tr th:only-of-type {\n",
              "        vertical-align: middle;\n",
              "    }\n",
              "\n",
              "    .dataframe tbody tr th {\n",
              "        vertical-align: top;\n",
              "    }\n",
              "\n",
              "    .dataframe thead th {\n",
              "        text-align: right;\n",
              "    }\n",
              "</style>\n",
              "<table border=\"1\" class=\"dataframe\">\n",
              "  <thead>\n",
              "    <tr style=\"text-align: right;\">\n",
              "      <th></th>\n",
              "      <th>damage_code</th>\n",
              "      <th>severity_code</th>\n",
              "      <th>tire_brand_guid</th>\n",
              "      <th>rim_size_guid</th>\n",
              "      <th>lateral_position_type</th>\n",
              "      <th>longitude_position_type</th>\n",
              "      <th>tread_depth_guid</th>\n",
              "      <th>create_userguid</th>\n",
              "      <th>model_year</th>\n",
              "      <th>mileage</th>\n",
              "      <th>num_tires_replaced</th>\n",
              "    </tr>\n",
              "  </thead>\n",
              "  <tbody>\n",
              "    <tr>\n",
              "      <th>78258</th>\n",
              "      <td>14</td>\n",
              "      <td>71</td>\n",
              "      <td>2C24D0F0-858A-C24C-B0CE-8F3C1EFEFC9B</td>\n",
              "      <td>F7AA8E11-3B1E-8542-962E-4480DB4E2BE6</td>\n",
              "      <td>RIGHT</td>\n",
              "      <td>FRONT</td>\n",
              "      <td>CF8810C9-238F-49CE-87C6-33A24CC90179</td>\n",
              "      <td>2CB1E349-7B80-4170-B0B5-3123DA926FF8</td>\n",
              "      <td>2012</td>\n",
              "      <td>165256.0</td>\n",
              "      <td>4</td>\n",
              "    </tr>\n",
              "    <tr>\n",
              "      <th>69059</th>\n",
              "      <td>16</td>\n",
              "      <td>71</td>\n",
              "      <td>291CF2A6-57EC-0B48-BE42-6F95113B7C40</td>\n",
              "      <td>DD2960A2-DFEF-B040-BB39-F4D03785BCDE</td>\n",
              "      <td>LEFT</td>\n",
              "      <td>REAR</td>\n",
              "      <td>74231FDE-E1DF-8243-9418-D1756D9BFD4B</td>\n",
              "      <td>3D69E6B3-67EC-40CA-B8DC-1988296043C3</td>\n",
              "      <td>2015</td>\n",
              "      <td>216554.0</td>\n",
              "      <td>0</td>\n",
              "    </tr>\n",
              "    <tr>\n",
              "      <th>59458</th>\n",
              "      <td>84</td>\n",
              "      <td>74</td>\n",
              "      <td>EC34273F-2028-AE47-9246-A62A44A9802D</td>\n",
              "      <td>DD2960A2-DFEF-B040-BB39-F4D03785BCDE</td>\n",
              "      <td>LEFT</td>\n",
              "      <td>REAR</td>\n",
              "      <td>8B95CD4A-E78A-7042-875F-103DF2C670BC</td>\n",
              "      <td>EE768823-90DD-4DF2-B4A2-B339DBCFCD0D</td>\n",
              "      <td>2017</td>\n",
              "      <td>20520.0</td>\n",
              "      <td>4</td>\n",
              "    </tr>\n",
              "    <tr>\n",
              "      <th>74694</th>\n",
              "      <td>257</td>\n",
              "      <td>55</td>\n",
              "      <td>2017A23F-2347-E241-9350-E8C2A08E6499</td>\n",
              "      <td>DC3A9EA1-6898-9347-91F4-07640CA75574</td>\n",
              "      <td>RIGHT</td>\n",
              "      <td>REAR</td>\n",
              "      <td>4E811E9E-6BE5-9747-8CD7-6A68C179F4FC</td>\n",
              "      <td>29AC4535-11BF-4C5C-9100-548EC3FC067C</td>\n",
              "      <td>2018</td>\n",
              "      <td>32315.0</td>\n",
              "      <td>0</td>\n",
              "    </tr>\n",
              "    <tr>\n",
              "      <th>37728</th>\n",
              "      <td>81</td>\n",
              "      <td>9</td>\n",
              "      <td>FDD070AF-647C-944F-83B4-52346E9626B3</td>\n",
              "      <td>DD2960A2-DFEF-B040-BB39-F4D03785BCDE</td>\n",
              "      <td>LEFT</td>\n",
              "      <td>FRONT</td>\n",
              "      <td>A6F6F9ED-943E-9A46-B681-5C32F9D4134D</td>\n",
              "      <td>9834BB8C-CE9E-42BD-80D3-F3562A9272C9</td>\n",
              "      <td>2010</td>\n",
              "      <td>188404.0</td>\n",
              "      <td>2</td>\n",
              "    </tr>\n",
              "  </tbody>\n",
              "</table>\n",
              "</div>"
            ],
            "text/plain": [
              "       damage_code  severity_code                       tire_brand_guid  \\\n",
              "78258           14             71  2C24D0F0-858A-C24C-B0CE-8F3C1EFEFC9B   \n",
              "69059           16             71  291CF2A6-57EC-0B48-BE42-6F95113B7C40   \n",
              "59458           84             74  EC34273F-2028-AE47-9246-A62A44A9802D   \n",
              "74694          257             55  2017A23F-2347-E241-9350-E8C2A08E6499   \n",
              "37728           81              9  FDD070AF-647C-944F-83B4-52346E9626B3   \n",
              "\n",
              "                              rim_size_guid lateral_position_type  \\\n",
              "78258  F7AA8E11-3B1E-8542-962E-4480DB4E2BE6                 RIGHT   \n",
              "69059  DD2960A2-DFEF-B040-BB39-F4D03785BCDE                  LEFT   \n",
              "59458  DD2960A2-DFEF-B040-BB39-F4D03785BCDE                  LEFT   \n",
              "74694  DC3A9EA1-6898-9347-91F4-07640CA75574                 RIGHT   \n",
              "37728  DD2960A2-DFEF-B040-BB39-F4D03785BCDE                  LEFT   \n",
              "\n",
              "      longitude_position_type                      tread_depth_guid  \\\n",
              "78258                   FRONT  CF8810C9-238F-49CE-87C6-33A24CC90179   \n",
              "69059                    REAR  74231FDE-E1DF-8243-9418-D1756D9BFD4B   \n",
              "59458                    REAR  8B95CD4A-E78A-7042-875F-103DF2C670BC   \n",
              "74694                    REAR  4E811E9E-6BE5-9747-8CD7-6A68C179F4FC   \n",
              "37728                   FRONT  A6F6F9ED-943E-9A46-B681-5C32F9D4134D   \n",
              "\n",
              "                            create_userguid  model_year   mileage  \\\n",
              "78258  2CB1E349-7B80-4170-B0B5-3123DA926FF8        2012  165256.0   \n",
              "69059  3D69E6B3-67EC-40CA-B8DC-1988296043C3        2015  216554.0   \n",
              "59458  EE768823-90DD-4DF2-B4A2-B339DBCFCD0D        2017   20520.0   \n",
              "74694  29AC4535-11BF-4C5C-9100-548EC3FC067C        2018   32315.0   \n",
              "37728  9834BB8C-CE9E-42BD-80D3-F3562A9272C9        2010  188404.0   \n",
              "\n",
              "       num_tires_replaced  \n",
              "78258                   4  \n",
              "69059                   0  \n",
              "59458                   4  \n",
              "74694                   0  \n",
              "37728                   2  "
            ]
          },
          "execution_count": 232,
          "metadata": {
            "tags": []
          },
          "output_type": "execute_result"
        }
      ],
      "source": [
        "# Remove Unwanted Columns\n",
        "for c in ['part_code', 'name']:\n",
        "    ignore_cols.append(c)\n",
        "\n",
        "selected_cols = [col for col in categorical_features+numerical_features if col not in ignore_cols]\n",
        "df_final_selected = df_final[selected_cols+[target]]\n",
        "df_final_selected.sample(frac=1).head()"
      ]
    },
    {
      "cell_type": "code",
      "execution_count": 238,
      "metadata": {
        "colab": {
          "base_uri": "https://localhost:8080/",
          "height": 289
        },
        "id": "EAfT44xIsXga",
        "outputId": "9d670487-1690-42a6-fbe3-e342e07aa3ea"
      },
      "outputs": [
        {
          "data": {
            "text/html": [
              "<div>\n",
              "<style scoped>\n",
              "    .dataframe tbody tr th:only-of-type {\n",
              "        vertical-align: middle;\n",
              "    }\n",
              "\n",
              "    .dataframe tbody tr th {\n",
              "        vertical-align: top;\n",
              "    }\n",
              "\n",
              "    .dataframe thead th {\n",
              "        text-align: right;\n",
              "    }\n",
              "</style>\n",
              "<table border=\"1\" class=\"dataframe\">\n",
              "  <thead>\n",
              "    <tr style=\"text-align: right;\">\n",
              "      <th></th>\n",
              "      <th>damage_code</th>\n",
              "      <th>severity_code</th>\n",
              "      <th>tire_brand_guid</th>\n",
              "      <th>rim_size_guid</th>\n",
              "      <th>lateral_position_type</th>\n",
              "      <th>longitude_position_type</th>\n",
              "      <th>tread_depth_guid</th>\n",
              "      <th>create_userguid</th>\n",
              "      <th>model_year</th>\n",
              "      <th>mileage</th>\n",
              "      <th>num_tires_replaced</th>\n",
              "    </tr>\n",
              "  </thead>\n",
              "  <tbody>\n",
              "    <tr>\n",
              "      <th>0</th>\n",
              "      <td>17</td>\n",
              "      <td>69</td>\n",
              "      <td>FDD070AF-647C-944F-83B4-52346E9626B3</td>\n",
              "      <td>46D36859-AE06-E54F-8D70-3D4CB2165F9C</td>\n",
              "      <td>LEFT</td>\n",
              "      <td>REAR</td>\n",
              "      <td>177539E2-ACD0-A34F-9131-F430FF9439CC</td>\n",
              "      <td>867B3488-5AAF-4FC4-B85B-19402E3C47EC</td>\n",
              "      <td>2018</td>\n",
              "      <td>1.0</td>\n",
              "      <td>0</td>\n",
              "    </tr>\n",
              "    <tr>\n",
              "      <th>1</th>\n",
              "      <td>17</td>\n",
              "      <td>69</td>\n",
              "      <td>FDD070AF-647C-944F-83B4-52346E9626B3</td>\n",
              "      <td>46D36859-AE06-E54F-8D70-3D4CB2165F9C</td>\n",
              "      <td>LEFT</td>\n",
              "      <td>SECONDAXLE</td>\n",
              "      <td>177539E2-ACD0-A34F-9131-F430FF9439CC</td>\n",
              "      <td>867B3488-5AAF-4FC4-B85B-19402E3C47EC</td>\n",
              "      <td>2018</td>\n",
              "      <td>1.0</td>\n",
              "      <td>0</td>\n",
              "    </tr>\n",
              "    <tr>\n",
              "      <th>2</th>\n",
              "      <td>17</td>\n",
              "      <td>69</td>\n",
              "      <td>FDD070AF-647C-944F-83B4-52346E9626B3</td>\n",
              "      <td>46D36859-AE06-E54F-8D70-3D4CB2165F9C</td>\n",
              "      <td>RIGHT</td>\n",
              "      <td>REAR</td>\n",
              "      <td>177539E2-ACD0-A34F-9131-F430FF9439CC</td>\n",
              "      <td>867B3488-5AAF-4FC4-B85B-19402E3C47EC</td>\n",
              "      <td>2018</td>\n",
              "      <td>1.0</td>\n",
              "      <td>0</td>\n",
              "    </tr>\n",
              "    <tr>\n",
              "      <th>3</th>\n",
              "      <td>17</td>\n",
              "      <td>69</td>\n",
              "      <td>FDD070AF-647C-944F-83B4-52346E9626B3</td>\n",
              "      <td>46D36859-AE06-E54F-8D70-3D4CB2165F9C</td>\n",
              "      <td>RIGHT</td>\n",
              "      <td>SECONDAXLE</td>\n",
              "      <td>177539E2-ACD0-A34F-9131-F430FF9439CC</td>\n",
              "      <td>867B3488-5AAF-4FC4-B85B-19402E3C47EC</td>\n",
              "      <td>2018</td>\n",
              "      <td>1.0</td>\n",
              "      <td>0</td>\n",
              "    </tr>\n",
              "    <tr>\n",
              "      <th>4</th>\n",
              "      <td>89</td>\n",
              "      <td>15</td>\n",
              "      <td>FDD070AF-647C-944F-83B4-52346E9626B3</td>\n",
              "      <td>46D36859-AE06-E54F-8D70-3D4CB2165F9C</td>\n",
              "      <td>LEFT</td>\n",
              "      <td>REAR</td>\n",
              "      <td>177539E2-ACD0-A34F-9131-F430FF9439CC</td>\n",
              "      <td>867B3488-5AAF-4FC4-B85B-19402E3C47EC</td>\n",
              "      <td>2018</td>\n",
              "      <td>1.0</td>\n",
              "      <td>0</td>\n",
              "    </tr>\n",
              "  </tbody>\n",
              "</table>\n",
              "</div>"
            ],
            "text/plain": [
              "  damage_code severity_code                       tire_brand_guid  \\\n",
              "0          17            69  FDD070AF-647C-944F-83B4-52346E9626B3   \n",
              "1          17            69  FDD070AF-647C-944F-83B4-52346E9626B3   \n",
              "2          17            69  FDD070AF-647C-944F-83B4-52346E9626B3   \n",
              "3          17            69  FDD070AF-647C-944F-83B4-52346E9626B3   \n",
              "4          89            15  FDD070AF-647C-944F-83B4-52346E9626B3   \n",
              "\n",
              "                          rim_size_guid lateral_position_type  \\\n",
              "0  46D36859-AE06-E54F-8D70-3D4CB2165F9C                  LEFT   \n",
              "1  46D36859-AE06-E54F-8D70-3D4CB2165F9C                  LEFT   \n",
              "2  46D36859-AE06-E54F-8D70-3D4CB2165F9C                 RIGHT   \n",
              "3  46D36859-AE06-E54F-8D70-3D4CB2165F9C                 RIGHT   \n",
              "4  46D36859-AE06-E54F-8D70-3D4CB2165F9C                  LEFT   \n",
              "\n",
              "  longitude_position_type                      tread_depth_guid  \\\n",
              "0                    REAR  177539E2-ACD0-A34F-9131-F430FF9439CC   \n",
              "1              SECONDAXLE  177539E2-ACD0-A34F-9131-F430FF9439CC   \n",
              "2                    REAR  177539E2-ACD0-A34F-9131-F430FF9439CC   \n",
              "3              SECONDAXLE  177539E2-ACD0-A34F-9131-F430FF9439CC   \n",
              "4                    REAR  177539E2-ACD0-A34F-9131-F430FF9439CC   \n",
              "\n",
              "                        create_userguid model_year  mileage num_tires_replaced  \n",
              "0  867B3488-5AAF-4FC4-B85B-19402E3C47EC       2018      1.0                  0  \n",
              "1  867B3488-5AAF-4FC4-B85B-19402E3C47EC       2018      1.0                  0  \n",
              "2  867B3488-5AAF-4FC4-B85B-19402E3C47EC       2018      1.0                  0  \n",
              "3  867B3488-5AAF-4FC4-B85B-19402E3C47EC       2018      1.0                  0  \n",
              "4  867B3488-5AAF-4FC4-B85B-19402E3C47EC       2018      1.0                  0  "
            ]
          },
          "execution_count": 238,
          "metadata": {
            "tags": []
          },
          "output_type": "execute_result"
        }
      ],
      "source": [
        "# Encode Categorical Variables by their index representation\n",
        "\n",
        "def convert_to_categorical(df, cols):\n",
        "    for col in cols:\n",
        "        df[col] = df[col].astype('category', copy=False)\n",
        "    \n",
        "    df_encoded = df.copy()\n",
        "    for col in cols:\n",
        "        df_encoded[col] = df_encoded[col].cat.codes\n",
        "    \n",
        "    return df, df_encoded\n",
        "\n",
        "_, numerical_features, categorical_features = split_num_cat_features(df_final_selected, defined_numerical_cols=defined_numerical_cols)\n",
        "processed_df, encoded_df = convert_to_categorical(df_final_selected, categorical_features)\n",
        "processed_df.head()"
      ]
    },
    {
      "cell_type": "code",
      "execution_count": 239,
      "metadata": {
        "colab": {
          "base_uri": "https://localhost:8080/",
          "height": 204
        },
        "id": "5z21nPIsw9jJ",
        "outputId": "a73554b6-01a8-4008-b1b7-d7aa783d73b6"
      },
      "outputs": [
        {
          "data": {
            "text/html": [
              "<div>\n",
              "<style scoped>\n",
              "    .dataframe tbody tr th:only-of-type {\n",
              "        vertical-align: middle;\n",
              "    }\n",
              "\n",
              "    .dataframe tbody tr th {\n",
              "        vertical-align: top;\n",
              "    }\n",
              "\n",
              "    .dataframe thead th {\n",
              "        text-align: right;\n",
              "    }\n",
              "</style>\n",
              "<table border=\"1\" class=\"dataframe\">\n",
              "  <thead>\n",
              "    <tr style=\"text-align: right;\">\n",
              "      <th></th>\n",
              "      <th>damage_code</th>\n",
              "      <th>severity_code</th>\n",
              "      <th>tire_brand_guid</th>\n",
              "      <th>rim_size_guid</th>\n",
              "      <th>lateral_position_type</th>\n",
              "      <th>longitude_position_type</th>\n",
              "      <th>tread_depth_guid</th>\n",
              "      <th>create_userguid</th>\n",
              "      <th>model_year</th>\n",
              "      <th>mileage</th>\n",
              "      <th>num_tires_replaced</th>\n",
              "    </tr>\n",
              "  </thead>\n",
              "  <tbody>\n",
              "    <tr>\n",
              "      <th>0</th>\n",
              "      <td>11</td>\n",
              "      <td>37</td>\n",
              "      <td>29</td>\n",
              "      <td>3</td>\n",
              "      <td>1</td>\n",
              "      <td>1</td>\n",
              "      <td>0</td>\n",
              "      <td>233</td>\n",
              "      <td>21</td>\n",
              "      <td>1.0</td>\n",
              "      <td>0</td>\n",
              "    </tr>\n",
              "    <tr>\n",
              "      <th>1</th>\n",
              "      <td>11</td>\n",
              "      <td>37</td>\n",
              "      <td>29</td>\n",
              "      <td>3</td>\n",
              "      <td>1</td>\n",
              "      <td>2</td>\n",
              "      <td>0</td>\n",
              "      <td>233</td>\n",
              "      <td>21</td>\n",
              "      <td>1.0</td>\n",
              "      <td>0</td>\n",
              "    </tr>\n",
              "    <tr>\n",
              "      <th>2</th>\n",
              "      <td>11</td>\n",
              "      <td>37</td>\n",
              "      <td>29</td>\n",
              "      <td>3</td>\n",
              "      <td>2</td>\n",
              "      <td>1</td>\n",
              "      <td>0</td>\n",
              "      <td>233</td>\n",
              "      <td>21</td>\n",
              "      <td>1.0</td>\n",
              "      <td>0</td>\n",
              "    </tr>\n",
              "    <tr>\n",
              "      <th>3</th>\n",
              "      <td>11</td>\n",
              "      <td>37</td>\n",
              "      <td>29</td>\n",
              "      <td>3</td>\n",
              "      <td>2</td>\n",
              "      <td>2</td>\n",
              "      <td>0</td>\n",
              "      <td>233</td>\n",
              "      <td>21</td>\n",
              "      <td>1.0</td>\n",
              "      <td>0</td>\n",
              "    </tr>\n",
              "    <tr>\n",
              "      <th>4</th>\n",
              "      <td>50</td>\n",
              "      <td>11</td>\n",
              "      <td>29</td>\n",
              "      <td>3</td>\n",
              "      <td>1</td>\n",
              "      <td>1</td>\n",
              "      <td>0</td>\n",
              "      <td>233</td>\n",
              "      <td>21</td>\n",
              "      <td>1.0</td>\n",
              "      <td>0</td>\n",
              "    </tr>\n",
              "  </tbody>\n",
              "</table>\n",
              "</div>"
            ],
            "text/plain": [
              "   damage_code  severity_code  tire_brand_guid  rim_size_guid  \\\n",
              "0           11             37               29              3   \n",
              "1           11             37               29              3   \n",
              "2           11             37               29              3   \n",
              "3           11             37               29              3   \n",
              "4           50             11               29              3   \n",
              "\n",
              "   lateral_position_type  longitude_position_type  tread_depth_guid  \\\n",
              "0                      1                        1                 0   \n",
              "1                      1                        2                 0   \n",
              "2                      2                        1                 0   \n",
              "3                      2                        2                 0   \n",
              "4                      1                        1                 0   \n",
              "\n",
              "   create_userguid  model_year  mileage  num_tires_replaced  \n",
              "0              233          21      1.0                   0  \n",
              "1              233          21      1.0                   0  \n",
              "2              233          21      1.0                   0  \n",
              "3              233          21      1.0                   0  \n",
              "4              233          21      1.0                   0  "
            ]
          },
          "execution_count": 239,
          "metadata": {
            "tags": []
          },
          "output_type": "execute_result"
        }
      ],
      "source": [
        "encoded_df.head()"
      ]
    },
    {
      "cell_type": "markdown",
      "metadata": {
        "id": "mjtmVGNogM79"
      },
      "source": [
        "I like to check for Correlation to see if there are any features I can further remove that is correlated with another."
      ]
    },
    {
      "cell_type": "code",
      "execution_count": 237,
      "metadata": {
        "colab": {
          "base_uri": "https://localhost:8080/",
          "height": 704
        },
        "id": "OMOlvaUPxJA4",
        "outputId": "6b3dd064-c470-4e18-937d-4809126cff33"
      },
      "outputs": [
        {
          "data": {
            "image/png": "[encoded data removed]",
            "text/plain": [
              "<Figure size 1080x720 with 2 Axes>"
            ]
          },
          "metadata": {
            "needs_background": "light",
            "tags": []
          },
          "output_type": "display_data"
        }
      ],
      "source": [
        "check_correlation(encoded_df)"
      ]
    },
    {
      "cell_type": "markdown",
      "metadata": {
        "id": "nGoRaG8zgmvs"
      },
      "source": [
        "## Data Splitting: 3-fold\n",
        "\n",
        "There are many ways to split your data. If I have enough, I like to have a **60/20/20 split** for assurance that my model will generalize."
      ]
    },
    {
      "cell_type": "code",
      "execution_count": 243,
      "metadata": {
        "colab": {
          "base_uri": "https://localhost:8080/"
        },
        "id": "KijK1MzrxMqQ",
        "outputId": "03993d4e-4b2f-4063-e994-70faa87e76db"
      },
      "outputs": [
        {
          "name": "stdout",
          "output_type": "stream",
          "text": [
            "56871 train examples\n",
            "18958 validation examples\n",
            "18958 test examples\n"
          ]
        }
      ],
      "source": [
        "features = [col for col in encoded_df.columns if col!=target]\n",
        "train, test = train_test_split(encoded_df, test_size=0.2, random_state=42)\n",
        "train, valid = train_test_split(train, test_size=0.25, random_state=42)\n",
        "\n",
        "X_train, y_train = train[features], train[target]\n",
        "X_valid, y_valid = valid[features], valid[target]\n",
        "X_test, y_test   = test[features], test[target]\n",
        "\n",
        "print(len(train), 'train examples')\n",
        "print(len(valid), 'validation examples')\n",
        "print(len(test), 'test examples')"
      ]
    },
    {
      "cell_type": "code",
      "execution_count": 244,
      "metadata": {
        "colab": {
          "base_uri": "https://localhost:8080/"
        },
        "id": "Gga3obccyI2x",
        "outputId": "ca077872-c462-4127-bfad-86f5db4895b5"
      },
      "outputs": [
        {
          "data": {
            "text/plain": [
              "0    36942\n",
              "4    15914\n",
              "2     1760\n",
              "1     1581\n",
              "3      674\n",
              "Name: num_tires_replaced, dtype: int64"
            ]
          },
          "execution_count": 244,
          "metadata": {
            "tags": []
          },
          "output_type": "execute_result"
        }
      ],
      "source": [
        "y_train.value_counts()"
      ]
    },
    {
      "cell_type": "code",
      "execution_count": 245,
      "metadata": {
        "colab": {
          "base_uri": "https://localhost:8080/"
        },
        "id": "WNExi37wyxZq",
        "outputId": "e9fb28c9-bf5f-4382-cfa6-aa240c7fa00d"
      },
      "outputs": [
        {
          "data": {
            "text/plain": [
              "0    12193\n",
              "4     5403\n",
              "2      613\n",
              "1      527\n",
              "3      222\n",
              "Name: num_tires_replaced, dtype: int64"
            ]
          },
          "execution_count": 245,
          "metadata": {
            "tags": []
          },
          "output_type": "execute_result"
        }
      ],
      "source": [
        "y_valid.value_counts()"
      ]
    },
    {
      "cell_type": "code",
      "execution_count": 246,
      "metadata": {
        "colab": {
          "base_uri": "https://localhost:8080/"
        },
        "id": "Fs_6w06Cy0ow",
        "outputId": "2bb00fbd-cd92-4705-bcee-0d676ffd4da1"
      },
      "outputs": [
        {
          "data": {
            "text/plain": [
              "0    12238\n",
              "4     5323\n",
              "2      595\n",
              "1      558\n",
              "3      244\n",
              "Name: num_tires_replaced, dtype: int64"
            ]
          },
          "execution_count": 246,
          "metadata": {
            "tags": []
          },
          "output_type": "execute_result"
        }
      ],
      "source": [
        "y_test.value_counts()"
      ]
    },
    {
      "cell_type": "markdown",
      "metadata": {
        "id": "knVSalg9hOKc"
      },
      "source": [
        "## **Zack's Baseline Modeling** - *Random Forest*\n",
        "\n",
        "Random Forest has become my baseline and favorite algorithm over the years for a multitude of reasons. One of those reasons is how well it fits any data representation and explains the important features. Here I run some *cross validation and hyperparameter tuning using GridSearch* to ensure I choose a good enough Random Forest config.\n",
        "\n",
        "*NOTE: I use small parameter values here to preserve compute.*"
      ]
    },
    {
      "cell_type": "code",
      "execution_count": 247,
      "metadata": {
        "colab": {
          "base_uri": "https://localhost:8080/"
        },
        "id": "_hirQEuRy3BI",
        "outputId": "3aec17f3-fe4a-4565-ad58-0fc349292d1b"
      },
      "outputs": [
        {
          "name": "stdout",
          "output_type": "stream",
          "text": [
            "Our optimized Random Forest model is:\n"
          ]
        },
        {
          "data": {
            "text/plain": [
              "RandomForestClassifier(bootstrap=True, ccp_alpha=0.0, class_weight='balanced',\n",
              "                       criterion='entropy', max_depth=6, max_features='log2',\n",
              "                       max_leaf_nodes=None, max_samples=None,\n",
              "                       min_impurity_decrease=0.0, min_impurity_split=None,\n",
              "                       min_samples_leaf=5, min_samples_split=6,\n",
              "                       min_weight_fraction_leaf=0.0, n_estimators=15,\n",
              "                       n_jobs=None, oob_score=False, random_state=None,\n",
              "                       verbose=0, warm_start=False)"
            ]
          },
          "execution_count": 247,
          "metadata": {
            "tags": []
          },
          "output_type": "execute_result"
        }
      ],
      "source": [
        "rf_clf = RandomForestClassifier(class_weight=\"balanced\")\n",
        "\n",
        "parameters = {\"n_estimators\": [5, 10, 15], \n",
        "              \"criterion\": [\"gini\", \"entropy\"],\n",
        "              \"max_features\": [\"auto\", \"sqrt\", \"log2\"], \n",
        "              \"max_depth\": [2, 4, 6], \n",
        "              \"min_samples_split\": [2, 6, 12],\n",
        "              \"min_samples_leaf\": [1, 5, 10]\n",
        "             }\n",
        "\n",
        "grid_cv = GridSearchCV(rf_clf, parameters, scoring = make_scorer(accuracy_score))\n",
        "grid_cv = grid_cv.fit(X_train, y_train)\n",
        "\n",
        "print(\"Our optimized Random Forest model is:\")\n",
        "grid_cv.best_estimator_"
      ]
    },
    {
      "cell_type": "code",
      "execution_count": 249,
      "metadata": {
        "colab": {
          "base_uri": "https://localhost:8080/"
        },
        "id": "q994fT--zIPi",
        "outputId": "9f904772-167b-4c3f-987f-4b96c960401e"
      },
      "outputs": [
        {
          "name": "stdout",
          "output_type": "stream",
          "text": [
            "Accuracy: 0.562875830783838\n"
          ]
        }
      ],
      "source": [
        "rf_clf = grid_cv.best_estimator_\n",
        "rf_clf.fit(X_train, y_train)\n",
        "pred_rf = rf_clf.predict(X_test)\n",
        "acc_rf = accuracy_score(y_test, pred_rf)\n",
        "\n",
        "print(f'Accuracy: {acc_rf}')"
      ]
    },
    {
      "cell_type": "markdown",
      "metadata": {
        "id": "uAiIdnyriEP-"
      },
      "source": [
        "I'm quite certain if I had tried a larger number of estimators, along with other hyperparameters, I'd have a strong baseline than **56.3% Accuracy**. But for now, this will suffice."
      ]
    },
    {
      "cell_type": "code",
      "execution_count": 252,
      "metadata": {
        "colab": {
          "base_uri": "https://localhost:8080/",
          "height": 111
        },
        "id": "EER2MhLWzL1Q",
        "outputId": "2a527c98-102a-4182-faa1-1a5ca5c57bef"
      },
      "outputs": [
        {
          "data": {
            "text/html": [
              "<div>\n",
              "<style scoped>\n",
              "    .dataframe tbody tr th:only-of-type {\n",
              "        vertical-align: middle;\n",
              "    }\n",
              "\n",
              "    .dataframe tbody tr th {\n",
              "        vertical-align: top;\n",
              "    }\n",
              "\n",
              "    .dataframe thead th {\n",
              "        text-align: right;\n",
              "    }\n",
              "</style>\n",
              "<table border=\"1\" class=\"dataframe\">\n",
              "  <thead>\n",
              "    <tr style=\"text-align: right;\">\n",
              "      <th></th>\n",
              "      <th>94100</th>\n",
              "      <th>19356</th>\n",
              "      <th>90342</th>\n",
              "      <th>15617</th>\n",
              "      <th>44090</th>\n",
              "      <th>52473</th>\n",
              "      <th>46079</th>\n",
              "      <th>9836</th>\n",
              "      <th>21273</th>\n",
              "      <th>27437</th>\n",
              "    </tr>\n",
              "  </thead>\n",
              "  <tbody>\n",
              "    <tr>\n",
              "      <th>Actual</th>\n",
              "      <td>3</td>\n",
              "      <td>0</td>\n",
              "      <td>4</td>\n",
              "      <td>0</td>\n",
              "      <td>0</td>\n",
              "      <td>0</td>\n",
              "      <td>0</td>\n",
              "      <td>0</td>\n",
              "      <td>0</td>\n",
              "      <td>0</td>\n",
              "    </tr>\n",
              "    <tr>\n",
              "      <th>Predict</th>\n",
              "      <td>3</td>\n",
              "      <td>3</td>\n",
              "      <td>2</td>\n",
              "      <td>1</td>\n",
              "      <td>0</td>\n",
              "      <td>4</td>\n",
              "      <td>4</td>\n",
              "      <td>0</td>\n",
              "      <td>0</td>\n",
              "      <td>1</td>\n",
              "    </tr>\n",
              "  </tbody>\n",
              "</table>\n",
              "</div>"
            ],
            "text/plain": [
              "         94100  19356  90342  15617  44090  52473  46079  9836   21273  27437\n",
              "Actual       3      0      4      0      0      0      0      0      0      0\n",
              "Predict      3      3      2      1      0      4      4      0      0      1"
            ]
          },
          "execution_count": 252,
          "metadata": {
            "tags": []
          },
          "output_type": "execute_result"
        }
      ],
      "source": [
        "test_results_rf = pd.DataFrame({'Actual': y_test, 'Predict': pred_rf})\n",
        "test_results_rf.head(10).transpose()"
      ]
    },
    {
      "cell_type": "code",
      "execution_count": 411,
      "metadata": {
        "id": "3BqIpAPN2PGx"
      },
      "outputs": [],
      "source": [
        "def plot_cm(test_results, normalize=None):\n",
        "    cm = confusion_matrix(test_results['Actual'], test_results['Predict'], normalize=normalize)\n",
        "    fig = plt.figure(figsize=(10, 8))\n",
        "    ax = fig.add_subplot(111)\n",
        "    cm_display = ConfusionMatrixDisplay(cm, display_labels=[0,1,2,3,4])\n",
        "    cm_display.plot(values_format='.4g', cmap='GnBu', ax=ax)\n",
        "\n",
        "# plot_cm(test_results, normalize=\"true\")"
      ]
    },
    {
      "cell_type": "code",
      "execution_count": 275,
      "metadata": {
        "colab": {
          "base_uri": "https://localhost:8080/",
          "height": 497
        },
        "id": "mMXt-R_o2UWA",
        "outputId": "8841aa10-5795-460f-8c34-a5b473d14e29"
      },
      "outputs": [
        {
          "data": {
            "image/png": "[encoded data removed]",
            "text/plain": [
              "<Figure size 720x576 with 2 Axes>"
            ]
          },
          "metadata": {
            "needs_background": "light",
            "tags": []
          },
          "output_type": "display_data"
        }
      ],
      "source": [
        "plot_cm(test_results)"
      ]
    },
    {
      "cell_type": "markdown",
      "metadata": {
        "id": "mUcmoOP9irkB"
      },
      "source": [
        "The **Confusion Matrix** gives me really good information on how my model is classifying (and misclassfying) the number of replacement tires. Although 0 and 4 has a higher number correctly classified, 1 and 3 both have a higher percentage classified correctly as well. This is surprising considering we have very few examples of those."
      ]
    },
    {
      "cell_type": "markdown",
      "metadata": {
        "id": "hCDksK_-jgay"
      },
      "source": [
        "### Feature Importance\n",
        "\n",
        "Although I didn't state it in the beginning, my initial curiousity in `create_userguid` proved to be correct in which I felt it held good information for my model to learn from."
      ]
    },
    {
      "cell_type": "code",
      "execution_count": 328,
      "metadata": {
        "colab": {
          "base_uri": "https://localhost:8080/",
          "height": 359
        },
        "id": "feeahykV54kj",
        "outputId": "075fe4c9-14c6-40f3-bb18-9eac57e9d730"
      },
      "outputs": [
        {
          "data": {
            "text/html": [
              "<div>\n",
              "<style scoped>\n",
              "    .dataframe tbody tr th:only-of-type {\n",
              "        vertical-align: middle;\n",
              "    }\n",
              "\n",
              "    .dataframe tbody tr th {\n",
              "        vertical-align: top;\n",
              "    }\n",
              "\n",
              "    .dataframe thead th {\n",
              "        text-align: right;\n",
              "    }\n",
              "</style>\n",
              "<table border=\"1\" class=\"dataframe\">\n",
              "  <thead>\n",
              "    <tr style=\"text-align: right;\">\n",
              "      <th></th>\n",
              "      <th>Feature</th>\n",
              "      <th>Importance</th>\n",
              "    </tr>\n",
              "  </thead>\n",
              "  <tbody>\n",
              "    <tr>\n",
              "      <th>7</th>\n",
              "      <td>create_userguid</td>\n",
              "      <td>0.294932</td>\n",
              "    </tr>\n",
              "    <tr>\n",
              "      <th>6</th>\n",
              "      <td>tread_depth_guid</td>\n",
              "      <td>0.218279</td>\n",
              "    </tr>\n",
              "    <tr>\n",
              "      <th>9</th>\n",
              "      <td>mileage</td>\n",
              "      <td>0.189732</td>\n",
              "    </tr>\n",
              "    <tr>\n",
              "      <th>8</th>\n",
              "      <td>model_year</td>\n",
              "      <td>0.110524</td>\n",
              "    </tr>\n",
              "    <tr>\n",
              "      <th>2</th>\n",
              "      <td>tire_brand_guid</td>\n",
              "      <td>0.085174</td>\n",
              "    </tr>\n",
              "    <tr>\n",
              "      <th>3</th>\n",
              "      <td>rim_size_guid</td>\n",
              "      <td>0.071493</td>\n",
              "    </tr>\n",
              "    <tr>\n",
              "      <th>0</th>\n",
              "      <td>damage_code</td>\n",
              "      <td>0.013265</td>\n",
              "    </tr>\n",
              "    <tr>\n",
              "      <th>1</th>\n",
              "      <td>severity_code</td>\n",
              "      <td>0.010253</td>\n",
              "    </tr>\n",
              "    <tr>\n",
              "      <th>5</th>\n",
              "      <td>longitude_position_type</td>\n",
              "      <td>0.003473</td>\n",
              "    </tr>\n",
              "    <tr>\n",
              "      <th>4</th>\n",
              "      <td>lateral_position_type</td>\n",
              "      <td>0.002876</td>\n",
              "    </tr>\n",
              "  </tbody>\n",
              "</table>\n",
              "</div>"
            ],
            "text/plain": [
              "                   Feature  Importance\n",
              "7          create_userguid    0.294932\n",
              "6         tread_depth_guid    0.218279\n",
              "9                  mileage    0.189732\n",
              "8               model_year    0.110524\n",
              "2          tire_brand_guid    0.085174\n",
              "3            rim_size_guid    0.071493\n",
              "0              damage_code    0.013265\n",
              "1            severity_code    0.010253\n",
              "5  longitude_position_type    0.003473\n",
              "4    lateral_position_type    0.002876"
            ]
          },
          "execution_count": 328,
          "metadata": {
            "tags": []
          },
          "output_type": "execute_result"
        }
      ],
      "source": [
        "featureImp_list = []\n",
        "for feat, importance in zip(X_train.columns, rf_clf.feature_importances_):  \n",
        "    temp = [feat, importance]\n",
        "    featureImp_list.append(temp)\n",
        "\n",
        "featureImp_df = pd.DataFrame(featureImp_list, columns = ['Feature', 'Importance'])\n",
        "featureImp_df.sort_values('Importance', ascending = False)"
      ]
    },
    {
      "cell_type": "markdown",
      "metadata": {
        "id": "Lc_LOmWSj8a6"
      },
      "source": [
        "## **Model Improvement using TensorFlow & Keras**\n",
        "\n",
        "I'm always curious to see if I can build a Neural Network to either beat or compete with my baseline model.\n",
        "\n",
        "The first step I take is converting my data to a **tf.data.Dataset**."
      ]
    },
    {
      "cell_type": "code",
      "execution_count": 337,
      "metadata": {
        "colab": {
          "base_uri": "https://localhost:8080/"
        },
        "id": "eq6a-ccZ-cGl",
        "outputId": "106e8a4f-bcbb-418f-eb42-e9db81760d7d"
      },
      "outputs": [
        {
          "data": {
            "text/plain": [
              "({'create_userguid': TensorSpec(shape=(None,), dtype=tf.string, name=None),\n",
              "  'damage_code': TensorSpec(shape=(None,), dtype=tf.int64, name=None),\n",
              "  'lateral_position_type': TensorSpec(shape=(None,), dtype=tf.string, name=None),\n",
              "  'longitude_position_type': TensorSpec(shape=(None,), dtype=tf.string, name=None),\n",
              "  'mileage': TensorSpec(shape=(None,), dtype=tf.float64, name=None),\n",
              "  'model_year': TensorSpec(shape=(None,), dtype=tf.int64, name=None),\n",
              "  'rim_size_guid': TensorSpec(shape=(None,), dtype=tf.string, name=None),\n",
              "  'severity_code': TensorSpec(shape=(None,), dtype=tf.int64, name=None),\n",
              "  'tire_brand_guid': TensorSpec(shape=(None,), dtype=tf.string, name=None),\n",
              "  'tread_depth_guid': TensorSpec(shape=(None,), dtype=tf.string, name=None)},\n",
              " TensorSpec(shape=(None,), dtype=tf.int64, name=None))"
            ]
          },
          "execution_count": 337,
          "metadata": {
            "tags": []
          },
          "output_type": "execute_result"
        }
      ],
      "source": [
        "def df_to_dataset(dataframe, target, shuffle=True, batch_size=32):\n",
        "    dataframe = dataframe.copy()\n",
        "    labels = dataframe.pop(target)\n",
        "    ds = tf.data.Dataset.from_tensor_slices((dict(dataframe), labels))\n",
        "    if shuffle:\n",
        "        ds = ds.shuffle(buffer_size=len(dataframe))\n",
        "    ds = ds.batch(batch_size)\n",
        "    return ds\n",
        "\n",
        "train, test = train_test_split(processed_df, test_size=0.2, random_state=42)\n",
        "train, valid = train_test_split(train, test_size=0.25, random_state=42)\n",
        "\n",
        "train_ds = df_to_dataset(train, target, batch_size=64)\n",
        "valid_ds   = df_to_dataset(valid, target, shuffle=False, batch_size=256)\n",
        "test_ds  = df_to_dataset(test, target, shuffle=False, batch_size=256)\n",
        "\n",
        "train_ds.element_spec"
      ]
    },
    {
      "cell_type": "code",
      "execution_count": 342,
      "metadata": {
        "colab": {
          "base_uri": "https://localhost:8080/"
        },
        "id": "Uuf0Aiza-qgT",
        "outputId": "642ce936-93ca-40f2-ba19-5523f70caecd"
      },
      "outputs": [
        {
          "name": "stdout",
          "output_type": "stream",
          "text": [
            "[[ 67344.]\n",
            " [177680.]\n",
            " [ 91595.]\n",
            " [ 69827.]\n",
            " [ 32648.]\n",
            " [ 15698.]\n",
            " [130553.]\n",
            " [ 47982.]\n",
            " [119963.]\n",
            " [ 85333.]\n",
            " [ 42239.]\n",
            " [ 96812.]\n",
            " [254590.]\n",
            " [121661.]\n",
            " [109858.]\n",
            " [ 25460.]\n",
            " [ 83824.]\n",
            " [ 37287.]\n",
            " [ 74163.]\n",
            " [ 70958.]]\n"
          ]
        }
      ],
      "source": [
        "def demo(feature_column, example_batch):\n",
        "  feature_layer = DenseFeatures(feature_column)\n",
        "  print(feature_layer(example_batch).numpy()[:20])\n",
        "\n",
        "example_batch = next(iter(train_ds))[0]\n",
        "demo(tf.feature_column.numeric_column('mileage'), example_batch)"
      ]
    },
    {
      "cell_type": "code",
      "execution_count": 350,
      "metadata": {
        "colab": {
          "base_uri": "https://localhost:8080/"
        },
        "id": "rNsI6gpO-xgz",
        "outputId": "0969b3c2-c478-4382-f8fc-6bfd4b6f88e8"
      },
      "outputs": [
        {
          "name": "stdout",
          "output_type": "stream",
          "text": [
            "[[1. 0. 0.]\n",
            " [1. 0. 0.]\n",
            " [0. 1. 0.]\n",
            " [1. 0. 0.]\n",
            " [0. 1. 0.]\n",
            " [1. 0. 0.]\n",
            " [1. 0. 0.]\n",
            " [0. 1. 0.]\n",
            " [1. 0. 0.]\n",
            " [0. 1. 0.]\n",
            " [0. 1. 0.]\n",
            " [0. 1. 0.]\n",
            " [1. 0. 0.]\n",
            " [0. 1. 0.]\n",
            " [0. 1. 0.]\n",
            " [0. 1. 0.]\n",
            " [1. 0. 0.]\n",
            " [1. 0. 0.]\n",
            " [0. 1. 0.]\n",
            " [0. 1. 0.]]\n"
          ]
        }
      ],
      "source": [
        "demo(\n",
        "    tf.feature_column.indicator_column(\n",
        "        tf.feature_column.categorical_column_with_vocabulary_list('longitude_position_type', train.longitude_position_type.unique())), \n",
        "    example_batch\n",
        ")"
      ]
    },
    {
      "cell_type": "markdown",
      "metadata": {
        "id": "A6rPJdFukiim"
      },
      "source": [
        "### Preprocessing Layers\n",
        "\n",
        "I've gotten in the habit of including the preprocessing steps as apart of my model. Keras let's me do this by creating them as layers."
      ]
    },
    {
      "cell_type": "code",
      "execution_count": 353,
      "metadata": {
        "id": "SgY0dXYwAYgj"
      },
      "outputs": [],
      "source": [
        "def get_normalization_layer(name, dataset):\n",
        "    normalizer = Normalization()\n",
        "    feature_ds = dataset.map(lambda x, y: x[name])\n",
        "    normalizer.adapt(feature_ds)\n",
        "    return normalizer\n",
        "\n",
        "def get_category_encoding_layer(name, dataset, dtype, max_tokens=None):\n",
        "    if dtype == 'string':\n",
        "        index = StringLookup(max_tokens=max_tokens)\n",
        "    else:\n",
        "        index = IntegerLookup(max_values=max_tokens)\n",
        "\n",
        "    feature_ds = dataset.map(lambda x, y: x[name])\n",
        "    index.adapt(feature_ds)\n",
        "    feature_ds = feature_ds.map(index)\n",
        "    \n",
        "    encoder = CategoryEncoding(max_tokens=index.vocab_size())\n",
        "    encoder.adapt(feature_ds)\n",
        "\n",
        "    return lambda feature: encoder(index(feature))"
      ]
    },
    {
      "cell_type": "code",
      "execution_count": 376,
      "metadata": {
        "id": "7l7HvJHHAy9j"
      },
      "outputs": [],
      "source": [
        "all_inputs   = []\n",
        "encoded_features = []\n",
        "\n",
        "_, numerical_features, categorical_features = split_num_cat_features(df_final_selected)\n",
        "\n",
        "for header in numerical_features:\n",
        "    numeric_col = tf.keras.Input(shape=(1,), name=header)\n",
        "    normalization_layer = get_normalization_layer(header, train_ds)\n",
        "    encoded_numeric_col = normalization_layer(numeric_col)\n",
        "    all_inputs.append(numeric_col)\n",
        "    encoded_features.append(encoded_numeric_col)\n",
        "\n",
        "for header in categorical_features:\n",
        "    if df_final[header]\n",
        "    categorical_col = tf.keras.Input(shape=(1,), name=header, dtype='string')\n",
        "    encoding_layer = get_category_encoding_layer(header, train_ds, dtype='string',\n",
        "                                                 max_tokens=5)\n",
        "    encoded_categorical_col = encoding_layer(categorical_col)\n",
        "    all_inputs.append(categorical_col)\n",
        "    encoded_features.append(encoded_categorical_col)"
      ]
    },
    {
      "cell_type": "markdown",
      "metadata": {
        "id": "mloGzWt7k1EE"
      },
      "source": [
        "### Regularized Neural Network\n",
        "\n",
        "Although only 2 layers, I add L2 weight decay on both of my hidden layers and Dropout to my last hidden layer to help prevent overfitting. Because my classification task is multiclass, I use the **softmax** activation on the output layer."
      ]
    },
    {
      "cell_type": "code",
      "execution_count": 402,
      "metadata": {
        "colab": {
          "base_uri": "https://localhost:8080/"
        },
        "id": "-qz-9VQ_C5ps",
        "outputId": "2367b912-7050-4214-c279-78b561ead44c"
      },
      "outputs": [
        {
          "name": "stdout",
          "output_type": "stream",
          "text": [
            "Model: \"model_4\"\n",
            "__________________________________________________________________________________________________\n",
            "Layer (type)                    Output Shape         Param #     Connected to                     \n",
            "==================================================================================================\n",
            "tire_brand_guid (InputLayer)    [(None, 1)]          0                                            \n",
            "__________________________________________________________________________________________________\n",
            "rim_size_guid (InputLayer)      [(None, 1)]          0                                            \n",
            "__________________________________________________________________________________________________\n",
            "lateral_position_type (InputLay [(None, 1)]          0                                            \n",
            "__________________________________________________________________________________________________\n",
            "longitude_position_type (InputL [(None, 1)]          0                                            \n",
            "__________________________________________________________________________________________________\n",
            "tread_depth_guid (InputLayer)   [(None, 1)]          0                                            \n",
            "__________________________________________________________________________________________________\n",
            "create_userguid (InputLayer)    [(None, 1)]          0                                            \n",
            "__________________________________________________________________________________________________\n",
            "damage_code (InputLayer)        [(None, 1)]          0                                            \n",
            "__________________________________________________________________________________________________\n",
            "severity_code (InputLayer)      [(None, 1)]          0                                            \n",
            "__________________________________________________________________________________________________\n",
            "model_year (InputLayer)         [(None, 1)]          0                                            \n",
            "__________________________________________________________________________________________________\n",
            "mileage (InputLayer)            [(None, 1)]          0                                            \n",
            "__________________________________________________________________________________________________\n",
            "string_lookup_4 (StringLookup)  (None, 1)            0           tire_brand_guid[0][0]            \n",
            "__________________________________________________________________________________________________\n",
            "string_lookup_5 (StringLookup)  (None, 1)            0           rim_size_guid[0][0]              \n",
            "__________________________________________________________________________________________________\n",
            "string_lookup_6 (StringLookup)  (None, 1)            0           lateral_position_type[0][0]      \n",
            "__________________________________________________________________________________________________\n",
            "string_lookup_7 (StringLookup)  (None, 1)            0           longitude_position_type[0][0]    \n",
            "__________________________________________________________________________________________________\n",
            "string_lookup_8 (StringLookup)  (None, 1)            0           tread_depth_guid[0][0]           \n",
            "__________________________________________________________________________________________________\n",
            "string_lookup_9 (StringLookup)  (None, 1)            0           create_userguid[0][0]            \n",
            "__________________________________________________________________________________________________\n",
            "normalization_4 (Normalization) (None, 1)            3           damage_code[0][0]                \n",
            "__________________________________________________________________________________________________\n",
            "normalization_5 (Normalization) (None, 1)            3           severity_code[0][0]              \n",
            "__________________________________________________________________________________________________\n",
            "normalization_6 (Normalization) (None, 1)            3           model_year[0][0]                 \n",
            "__________________________________________________________________________________________________\n",
            "normalization_7 (Normalization) (None, 1)            3           mileage[0][0]                    \n",
            "__________________________________________________________________________________________________\n",
            "category_encoding (CategoryEnco (None, 5)            0           string_lookup_4[0][0]            \n",
            "__________________________________________________________________________________________________\n",
            "category_encoding_1 (CategoryEn (None, 5)            0           string_lookup_5[0][0]            \n",
            "__________________________________________________________________________________________________\n",
            "category_encoding_2 (CategoryEn (None, 5)            0           string_lookup_6[0][0]            \n",
            "__________________________________________________________________________________________________\n",
            "category_encoding_3 (CategoryEn (None, 5)            0           string_lookup_7[0][0]            \n",
            "__________________________________________________________________________________________________\n",
            "category_encoding_4 (CategoryEn (None, 5)            0           string_lookup_8[0][0]            \n",
            "__________________________________________________________________________________________________\n",
            "category_encoding_5 (CategoryEn (None, 5)            0           string_lookup_9[0][0]            \n",
            "__________________________________________________________________________________________________\n",
            "concatenate_4 (Concatenate)     (None, 34)           0           normalization_4[0][0]            \n",
            "                                                                 normalization_5[0][0]            \n",
            "                                                                 normalization_6[0][0]            \n",
            "                                                                 normalization_7[0][0]            \n",
            "                                                                 category_encoding[0][0]          \n",
            "                                                                 category_encoding_1[0][0]        \n",
            "                                                                 category_encoding_2[0][0]        \n",
            "                                                                 category_encoding_3[0][0]        \n",
            "                                                                 category_encoding_4[0][0]        \n",
            "                                                                 category_encoding_5[0][0]        \n",
            "__________________________________________________________________________________________________\n",
            "dense_12 (Dense)                (None, 16)           560         concatenate_4[0][0]              \n",
            "__________________________________________________________________________________________________\n",
            "dropout_4 (Dropout)             (None, 16)           0           dense_12[0][0]                   \n",
            "__________________________________________________________________________________________________\n",
            "dense_13 (Dense)                (None, 16)           272         dropout_4[0][0]                  \n",
            "__________________________________________________________________________________________________\n",
            "dense_14 (Dense)                (None, 5)            85          dense_13[0][0]                   \n",
            "==================================================================================================\n",
            "Total params: 929\n",
            "Trainable params: 917\n",
            "Non-trainable params: 12\n",
            "__________________________________________________________________________________________________\n"
          ]
        }
      ],
      "source": [
        "def build_model(encoded_features):\n",
        "    Feature_Layer = concatenate(encoded_features)\n",
        "    x = Dense(16, activation='relu', kernel_regularizer=l2(0.001))(Feature_Layer)\n",
        "    x = Dropout(0.05)(x)\n",
        "    x = Dense(16, activation='relu', kernel_regularizer=l2(0.001))(x)\n",
        "    output = Dense(5, activation='softmax')(x)\n",
        "    model = Model(all_inputs, output)\n",
        "\n",
        "    model.compile(\n",
        "        optimizer=Adam(lr=1e-3),\n",
        "        loss='sparse_categorical_crossentropy',\n",
        "        metrics=['accuracy'])\n",
        "\n",
        "    return model\n",
        "\n",
        "model = build_model(encoded_features)\n",
        "model.summary()\n",
        "\n",
        "def train_model(model, train_ds, valid_ds, epochs=10, batch_size=32, callbacks=None):\n",
        "    return model.fit(\n",
        "        train_ds, validation_data=valid_ds,\n",
        "        epochs=epochs, batch_size=batch_size,\n",
        "        callbacks=callbacks\n",
        "    )"
      ]
    },
    {
      "cell_type": "code",
      "execution_count": 403,
      "metadata": {
        "colab": {
          "base_uri": "https://localhost:8080/",
          "height": 695
        },
        "id": "i8X3xez2Dfy0",
        "outputId": "391ff621-f22a-4268-a398-45f587a345c4"
      },
      "outputs": [
        {
          "data": {
            "image/png": "[encoded data removed]",
            "text/plain": [
              "<IPython.core.display.Image object>"
            ]
          },
          "execution_count": 403,
          "metadata": {
            "tags": []
          },
          "output_type": "execute_result"
        }
      ],
      "source": [
        "tf.keras.utils.plot_model(model, show_shapes=True, rankdir=\"LR\")"
      ]
    },
    {
      "cell_type": "markdown",
      "metadata": {
        "id": "uzv9cf8Ulox6"
      },
      "source": [
        "One thing I could've tried differently was sending categorical variables like `model_year`, `severity_code`, etc. through an IntergerLookup instead of normalizing them."
      ]
    },
    {
      "cell_type": "code",
      "execution_count": 404,
      "metadata": {
        "colab": {
          "base_uri": "https://localhost:8080/"
        },
        "id": "15w7bLFgDtBb",
        "outputId": "1be4cc73-3785-4dd6-cf5c-1c7538c56b75"
      },
      "outputs": [
        {
          "name": "stdout",
          "output_type": "stream",
          "text": [
            "Epoch 1/100\n",
            "889/889 [==============================] - 4s 3ms/step - loss: 1.0397 - accuracy: 0.6064 - val_loss: 0.8490 - val_accuracy: 0.6602\n",
            "INFO:tensorflow:Assets written to: models/bestModelCheckpoint/assets\n",
            "Epoch 2/100\n",
            "889/889 [==============================] - 2s 2ms/step - loss: 0.8360 - accuracy: 0.6719 - val_loss: 0.8278 - val_accuracy: 0.6707\n",
            "INFO:tensorflow:Assets written to: models/bestModelCheckpoint/assets\n",
            "Epoch 3/100\n",
            "889/889 [==============================] - 2s 2ms/step - loss: 0.8247 - accuracy: 0.6780 - val_loss: 0.8139 - val_accuracy: 0.6837\n",
            "INFO:tensorflow:Assets written to: models/bestModelCheckpoint/assets\n",
            "Epoch 4/100\n",
            "889/889 [==============================] - 2s 3ms/step - loss: 0.8050 - accuracy: 0.6863 - val_loss: 0.8057 - val_accuracy: 0.6906\n",
            "INFO:tensorflow:Assets written to: models/bestModelCheckpoint/assets\n",
            "Epoch 5/100\n",
            "889/889 [==============================] - 2s 2ms/step - loss: 0.8025 - accuracy: 0.6910 - val_loss: 0.7977 - val_accuracy: 0.6896\n",
            "INFO:tensorflow:Assets written to: models/bestModelCheckpoint/assets\n",
            "Epoch 6/100\n",
            "889/889 [==============================] - 2s 3ms/step - loss: 0.7879 - accuracy: 0.6973 - val_loss: 0.7846 - val_accuracy: 0.7023\n",
            "INFO:tensorflow:Assets written to: models/bestModelCheckpoint/assets\n",
            "Epoch 7/100\n",
            "889/889 [==============================] - 2s 2ms/step - loss: 0.7809 - accuracy: 0.7019 - val_loss: 0.7776 - val_accuracy: 0.7066\n",
            "INFO:tensorflow:Assets written to: models/bestModelCheckpoint/assets\n",
            "Epoch 8/100\n",
            "889/889 [==============================] - 2s 3ms/step - loss: 0.7763 - accuracy: 0.7041 - val_loss: 0.7724 - val_accuracy: 0.7058\n",
            "INFO:tensorflow:Assets written to: models/bestModelCheckpoint/assets\n",
            "Epoch 9/100\n",
            "889/889 [==============================] - 2s 3ms/step - loss: 0.7710 - accuracy: 0.7077 - val_loss: 0.7724 - val_accuracy: 0.6984\n",
            "Epoch 10/100\n",
            "889/889 [==============================] - 2s 3ms/step - loss: 0.7715 - accuracy: 0.7100 - val_loss: 0.7622 - val_accuracy: 0.7130\n",
            "INFO:tensorflow:Assets written to: models/bestModelCheckpoint/assets\n",
            "Epoch 11/100\n",
            "889/889 [==============================] - 2s 3ms/step - loss: 0.7593 - accuracy: 0.7147 - val_loss: 0.7576 - val_accuracy: 0.7142\n",
            "INFO:tensorflow:Assets written to: models/bestModelCheckpoint/assets\n",
            "Epoch 12/100\n",
            "889/889 [==============================] - 2s 3ms/step - loss: 0.7583 - accuracy: 0.7165 - val_loss: 0.7529 - val_accuracy: 0.7158\n",
            "INFO:tensorflow:Assets written to: models/bestModelCheckpoint/assets\n",
            "Epoch 13/100\n",
            "889/889 [==============================] - 2s 3ms/step - loss: 0.7608 - accuracy: 0.7115 - val_loss: 0.7537 - val_accuracy: 0.7103\n",
            "Epoch 14/100\n",
            "889/889 [==============================] - 2s 3ms/step - loss: 0.7536 - accuracy: 0.7141 - val_loss: 0.7473 - val_accuracy: 0.7204\n",
            "INFO:tensorflow:Assets written to: models/bestModelCheckpoint/assets\n",
            "Epoch 15/100\n",
            "889/889 [==============================] - 2s 2ms/step - loss: 0.7476 - accuracy: 0.7181 - val_loss: 0.7434 - val_accuracy: 0.7197\n",
            "INFO:tensorflow:Assets written to: models/bestModelCheckpoint/assets\n",
            "Epoch 16/100\n",
            "889/889 [==============================] - 2s 3ms/step - loss: 0.7467 - accuracy: 0.7168 - val_loss: 0.7428 - val_accuracy: 0.7209\n",
            "INFO:tensorflow:Assets written to: models/bestModelCheckpoint/assets\n",
            "Epoch 17/100\n",
            "889/889 [==============================] - 2s 3ms/step - loss: 0.7477 - accuracy: 0.7214 - val_loss: 0.7407 - val_accuracy: 0.7190\n",
            "INFO:tensorflow:Assets written to: models/bestModelCheckpoint/assets\n",
            "Epoch 18/100\n",
            "889/889 [==============================] - 2s 3ms/step - loss: 0.7446 - accuracy: 0.7170 - val_loss: 0.7356 - val_accuracy: 0.7228\n",
            "INFO:tensorflow:Assets written to: models/bestModelCheckpoint/assets\n",
            "Epoch 19/100\n",
            "889/889 [==============================] - 2s 2ms/step - loss: 0.7408 - accuracy: 0.7243 - val_loss: 0.7333 - val_accuracy: 0.7246\n",
            "INFO:tensorflow:Assets written to: models/bestModelCheckpoint/assets\n",
            "Epoch 20/100\n",
            "889/889 [==============================] - 2s 3ms/step - loss: 0.7371 - accuracy: 0.7228 - val_loss: 0.7382 - val_accuracy: 0.7261\n",
            "Epoch 21/100\n",
            "889/889 [==============================] - 2s 3ms/step - loss: 0.7330 - accuracy: 0.7238 - val_loss: 0.7304 - val_accuracy: 0.7249\n",
            "INFO:tensorflow:Assets written to: models/bestModelCheckpoint/assets\n",
            "Epoch 22/100\n",
            "889/889 [==============================] - 2s 3ms/step - loss: 0.7394 - accuracy: 0.7203 - val_loss: 0.7258 - val_accuracy: 0.7268\n",
            "INFO:tensorflow:Assets written to: models/bestModelCheckpoint/assets\n",
            "Epoch 23/100\n",
            "889/889 [==============================] - 2s 3ms/step - loss: 0.7348 - accuracy: 0.7251 - val_loss: 0.7263 - val_accuracy: 0.7240\n",
            "Epoch 24/100\n",
            "889/889 [==============================] - 2s 3ms/step - loss: 0.7332 - accuracy: 0.7260 - val_loss: 0.7256 - val_accuracy: 0.7248\n",
            "INFO:tensorflow:Assets written to: models/bestModelCheckpoint/assets\n",
            "Epoch 25/100\n",
            "889/889 [==============================] - 2s 3ms/step - loss: 0.7343 - accuracy: 0.7246 - val_loss: 0.7224 - val_accuracy: 0.7261\n",
            "INFO:tensorflow:Assets written to: models/bestModelCheckpoint/assets\n",
            "Epoch 26/100\n",
            "889/889 [==============================] - 2s 3ms/step - loss: 0.7263 - accuracy: 0.7296 - val_loss: 0.7224 - val_accuracy: 0.7290\n",
            "INFO:tensorflow:Assets written to: models/bestModelCheckpoint/assets\n",
            "Epoch 27/100\n",
            "889/889 [==============================] - 2s 3ms/step - loss: 0.7325 - accuracy: 0.7235 - val_loss: 0.7260 - val_accuracy: 0.7234\n",
            "Epoch 28/100\n",
            "889/889 [==============================] - 2s 3ms/step - loss: 0.7308 - accuracy: 0.7260 - val_loss: 0.7175 - val_accuracy: 0.7287\n",
            "INFO:tensorflow:Assets written to: models/bestModelCheckpoint/assets\n",
            "Epoch 29/100\n",
            "889/889 [==============================] - 2s 3ms/step - loss: 0.7277 - accuracy: 0.7284 - val_loss: 0.7164 - val_accuracy: 0.7323\n",
            "INFO:tensorflow:Assets written to: models/bestModelCheckpoint/assets\n",
            "Epoch 30/100\n",
            "889/889 [==============================] - 2s 3ms/step - loss: 0.7285 - accuracy: 0.7276 - val_loss: 0.7152 - val_accuracy: 0.7323\n",
            "INFO:tensorflow:Assets written to: models/bestModelCheckpoint/assets\n",
            "Epoch 31/100\n",
            "889/889 [==============================] - 2s 3ms/step - loss: 0.7195 - accuracy: 0.7315 - val_loss: 0.7157 - val_accuracy: 0.7326\n",
            "Epoch 32/100\n",
            "889/889 [==============================] - 2s 3ms/step - loss: 0.7222 - accuracy: 0.7289 - val_loss: 0.7178 - val_accuracy: 0.7285\n",
            "Epoch 33/100\n",
            "889/889 [==============================] - 2s 3ms/step - loss: 0.7236 - accuracy: 0.7290 - val_loss: 0.7133 - val_accuracy: 0.7321\n",
            "INFO:tensorflow:Assets written to: models/bestModelCheckpoint/assets\n",
            "Epoch 34/100\n",
            "889/889 [==============================] - 2s 2ms/step - loss: 0.7257 - accuracy: 0.7263 - val_loss: 0.7129 - val_accuracy: 0.7316\n",
            "INFO:tensorflow:Assets written to: models/bestModelCheckpoint/assets\n",
            "Epoch 35/100\n",
            "889/889 [==============================] - 2s 3ms/step - loss: 0.7141 - accuracy: 0.7334 - val_loss: 0.7094 - val_accuracy: 0.7315\n",
            "INFO:tensorflow:Assets written to: models/bestModelCheckpoint/assets\n",
            "Epoch 36/100\n",
            "889/889 [==============================] - 2s 3ms/step - loss: 0.7184 - accuracy: 0.7322 - val_loss: 0.7067 - val_accuracy: 0.7337\n",
            "INFO:tensorflow:Assets written to: models/bestModelCheckpoint/assets\n",
            "Epoch 37/100\n",
            "889/889 [==============================] - 2s 3ms/step - loss: 0.7124 - accuracy: 0.7337 - val_loss: 0.7081 - val_accuracy: 0.7323\n",
            "Epoch 38/100\n",
            "889/889 [==============================] - 2s 3ms/step - loss: 0.7212 - accuracy: 0.7256 - val_loss: 0.7077 - val_accuracy: 0.7321\n",
            "Epoch 39/100\n",
            "889/889 [==============================] - 2s 3ms/step - loss: 0.7153 - accuracy: 0.7320 - val_loss: 0.7045 - val_accuracy: 0.7336\n",
            "INFO:tensorflow:Assets written to: models/bestModelCheckpoint/assets\n",
            "Epoch 40/100\n",
            "889/889 [==============================] - 2s 3ms/step - loss: 0.7124 - accuracy: 0.7327 - val_loss: 0.7084 - val_accuracy: 0.7314\n",
            "Epoch 41/100\n",
            "889/889 [==============================] - 2s 3ms/step - loss: 0.7102 - accuracy: 0.7323 - val_loss: 0.7091 - val_accuracy: 0.7343\n",
            "Epoch 42/100\n",
            "889/889 [==============================] - 2s 3ms/step - loss: 0.7121 - accuracy: 0.7331 - val_loss: 0.7014 - val_accuracy: 0.7342\n",
            "INFO:tensorflow:Assets written to: models/bestModelCheckpoint/assets\n",
            "Epoch 43/100\n",
            "889/889 [==============================] - 2s 3ms/step - loss: 0.7141 - accuracy: 0.7309 - val_loss: 0.7003 - val_accuracy: 0.7399\n",
            "INFO:tensorflow:Assets written to: models/bestModelCheckpoint/assets\n",
            "Epoch 44/100\n",
            "889/889 [==============================] - 2s 3ms/step - loss: 0.7157 - accuracy: 0.7317 - val_loss: 0.6984 - val_accuracy: 0.7362\n",
            "INFO:tensorflow:Assets written to: models/bestModelCheckpoint/assets\n",
            "Epoch 45/100\n",
            "889/889 [==============================] - 2s 3ms/step - loss: 0.7089 - accuracy: 0.7375 - val_loss: 0.6968 - val_accuracy: 0.7368\n",
            "INFO:tensorflow:Assets written to: models/bestModelCheckpoint/assets\n",
            "Epoch 46/100\n",
            "889/889 [==============================] - 2s 3ms/step - loss: 0.7043 - accuracy: 0.7350 - val_loss: 0.7018 - val_accuracy: 0.7362\n",
            "Epoch 47/100\n",
            "889/889 [==============================] - 2s 3ms/step - loss: 0.7129 - accuracy: 0.7333 - val_loss: 0.6990 - val_accuracy: 0.7360\n",
            "Epoch 48/100\n",
            "889/889 [==============================] - 2s 3ms/step - loss: 0.7065 - accuracy: 0.7341 - val_loss: 0.6959 - val_accuracy: 0.7407\n",
            "INFO:tensorflow:Assets written to: models/bestModelCheckpoint/assets\n",
            "Epoch 49/100\n",
            "889/889 [==============================] - 2s 3ms/step - loss: 0.7181 - accuracy: 0.7306 - val_loss: 0.6982 - val_accuracy: 0.7408\n",
            "Epoch 50/100\n",
            "889/889 [==============================] - 2s 3ms/step - loss: 0.7092 - accuracy: 0.7353 - val_loss: 0.6949 - val_accuracy: 0.7426\n",
            "INFO:tensorflow:Assets written to: models/bestModelCheckpoint/assets\n",
            "Epoch 51/100\n",
            "889/889 [==============================] - 2s 3ms/step - loss: 0.7030 - accuracy: 0.7362 - val_loss: 0.6959 - val_accuracy: 0.7395\n",
            "Epoch 52/100\n",
            "889/889 [==============================] - 2s 3ms/step - loss: 0.7089 - accuracy: 0.7380 - val_loss: 0.6947 - val_accuracy: 0.7406\n",
            "INFO:tensorflow:Assets written to: models/bestModelCheckpoint/assets\n",
            "Epoch 53/100\n",
            "889/889 [==============================] - 2s 3ms/step - loss: 0.7047 - accuracy: 0.7351 - val_loss: 0.6939 - val_accuracy: 0.7394\n",
            "INFO:tensorflow:Assets written to: models/bestModelCheckpoint/assets\n",
            "Epoch 54/100\n",
            "889/889 [==============================] - 2s 3ms/step - loss: 0.7026 - accuracy: 0.7380 - val_loss: 0.6938 - val_accuracy: 0.7399\n",
            "INFO:tensorflow:Assets written to: models/bestModelCheckpoint/assets\n",
            "Epoch 55/100\n",
            "889/889 [==============================] - 2s 3ms/step - loss: 0.7032 - accuracy: 0.7374 - val_loss: 0.6940 - val_accuracy: 0.7376\n",
            "Epoch 56/100\n",
            "889/889 [==============================] - 2s 3ms/step - loss: 0.7085 - accuracy: 0.7357 - val_loss: 0.6977 - val_accuracy: 0.7399\n",
            "Epoch 57/100\n",
            "889/889 [==============================] - 2s 3ms/step - loss: 0.7062 - accuracy: 0.7357 - val_loss: 0.6959 - val_accuracy: 0.7392\n",
            "Epoch 58/100\n",
            "889/889 [==============================] - 2s 3ms/step - loss: 0.7042 - accuracy: 0.7367 - val_loss: 0.6899 - val_accuracy: 0.7460\n",
            "INFO:tensorflow:Assets written to: models/bestModelCheckpoint/assets\n",
            "Epoch 59/100\n",
            "889/889 [==============================] - 2s 3ms/step - loss: 0.7014 - accuracy: 0.7380 - val_loss: 0.6899 - val_accuracy: 0.7388\n",
            "INFO:tensorflow:Assets written to: models/bestModelCheckpoint/assets\n",
            "Epoch 60/100\n",
            "889/889 [==============================] - 3s 3ms/step - loss: 0.7026 - accuracy: 0.7343 - val_loss: 0.6909 - val_accuracy: 0.7410\n",
            "Epoch 61/100\n",
            "889/889 [==============================] - 3s 3ms/step - loss: 0.7084 - accuracy: 0.7353 - val_loss: 0.6885 - val_accuracy: 0.7423\n",
            "INFO:tensorflow:Assets written to: models/bestModelCheckpoint/assets\n",
            "Epoch 62/100\n",
            "889/889 [==============================] - 2s 3ms/step - loss: 0.7005 - accuracy: 0.7407 - val_loss: 0.6889 - val_accuracy: 0.7418\n",
            "Epoch 63/100\n",
            "889/889 [==============================] - 2s 3ms/step - loss: 0.7051 - accuracy: 0.7355 - val_loss: 0.6904 - val_accuracy: 0.7418\n",
            "Epoch 64/100\n",
            "889/889 [==============================] - 2s 3ms/step - loss: 0.6922 - accuracy: 0.7424 - val_loss: 0.6927 - val_accuracy: 0.7424\n",
            "Epoch 65/100\n",
            "889/889 [==============================] - 2s 3ms/step - loss: 0.6994 - accuracy: 0.7381 - val_loss: 0.6854 - val_accuracy: 0.7412\n",
            "INFO:tensorflow:Assets written to: models/bestModelCheckpoint/assets\n",
            "Epoch 66/100\n",
            "889/889 [==============================] - 2s 3ms/step - loss: 0.6975 - accuracy: 0.7405 - val_loss: 0.6864 - val_accuracy: 0.7426\n",
            "Epoch 67/100\n",
            "889/889 [==============================] - 2s 3ms/step - loss: 0.7008 - accuracy: 0.7379 - val_loss: 0.6880 - val_accuracy: 0.7427\n",
            "Epoch 68/100\n",
            "889/889 [==============================] - 2s 3ms/step - loss: 0.7025 - accuracy: 0.7369 - val_loss: 0.6875 - val_accuracy: 0.7404\n",
            "Epoch 69/100\n",
            "889/889 [==============================] - 2s 3ms/step - loss: 0.7042 - accuracy: 0.7357 - val_loss: 0.6845 - val_accuracy: 0.7448\n",
            "INFO:tensorflow:Assets written to: models/bestModelCheckpoint/assets\n",
            "Epoch 70/100\n",
            "889/889 [==============================] - 2s 3ms/step - loss: 0.7033 - accuracy: 0.7373 - val_loss: 0.6863 - val_accuracy: 0.7459\n",
            "Epoch 71/100\n",
            "889/889 [==============================] - 2s 3ms/step - loss: 0.7018 - accuracy: 0.7378 - val_loss: 0.6869 - val_accuracy: 0.7451\n",
            "Epoch 72/100\n",
            "889/889 [==============================] - 2s 3ms/step - loss: 0.7086 - accuracy: 0.7333 - val_loss: 0.6884 - val_accuracy: 0.7413\n",
            "Epoch 73/100\n",
            "889/889 [==============================] - 2s 3ms/step - loss: 0.6940 - accuracy: 0.7382 - val_loss: 0.6866 - val_accuracy: 0.7450\n",
            "Epoch 74/100\n",
            "889/889 [==============================] - 2s 3ms/step - loss: 0.6957 - accuracy: 0.7404 - val_loss: 0.6852 - val_accuracy: 0.7397\n",
            "Epoch 75/100\n",
            "889/889 [==============================] - 2s 3ms/step - loss: 0.6998 - accuracy: 0.7351 - val_loss: 0.6904 - val_accuracy: 0.7412\n",
            "Epoch 76/100\n",
            "889/889 [==============================] - 2s 3ms/step - loss: 0.7020 - accuracy: 0.7370 - val_loss: 0.6866 - val_accuracy: 0.7475\n",
            "Epoch 77/100\n",
            "889/889 [==============================] - 2s 3ms/step - loss: 0.6974 - accuracy: 0.7423 - val_loss: 0.6854 - val_accuracy: 0.7455\n",
            "Epoch 78/100\n",
            "889/889 [==============================] - 2s 3ms/step - loss: 0.6982 - accuracy: 0.7403 - val_loss: 0.6863 - val_accuracy: 0.7419\n",
            "Epoch 79/100\n",
            "889/889 [==============================] - 2s 3ms/step - loss: 0.6977 - accuracy: 0.7379 - val_loss: 0.6914 - val_accuracy: 0.7395\n",
            "Epoch 80/100\n",
            "889/889 [==============================] - 2s 3ms/step - loss: 0.6943 - accuracy: 0.7396 - val_loss: 0.6781 - val_accuracy: 0.7467\n",
            "INFO:tensorflow:Assets written to: models/bestModelCheckpoint/assets\n",
            "Epoch 81/100\n",
            "889/889 [==============================] - 2s 3ms/step - loss: 0.6916 - accuracy: 0.7424 - val_loss: 0.6790 - val_accuracy: 0.7477\n",
            "Epoch 82/100\n",
            "889/889 [==============================] - 2s 3ms/step - loss: 0.6930 - accuracy: 0.7424 - val_loss: 0.6784 - val_accuracy: 0.7475\n",
            "Epoch 83/100\n",
            "889/889 [==============================] - 2s 3ms/step - loss: 0.6933 - accuracy: 0.7408 - val_loss: 0.6787 - val_accuracy: 0.7467\n",
            "Epoch 84/100\n",
            "889/889 [==============================] - 2s 3ms/step - loss: 0.6960 - accuracy: 0.7387 - val_loss: 0.6785 - val_accuracy: 0.7448\n",
            "Epoch 85/100\n",
            "889/889 [==============================] - 2s 3ms/step - loss: 0.6934 - accuracy: 0.7434 - val_loss: 0.6789 - val_accuracy: 0.7460\n",
            "Epoch 86/100\n",
            "889/889 [==============================] - 2s 3ms/step - loss: 0.6838 - accuracy: 0.7474 - val_loss: 0.6784 - val_accuracy: 0.7503\n",
            "Epoch 87/100\n",
            "889/889 [==============================] - 2s 3ms/step - loss: 0.6882 - accuracy: 0.7454 - val_loss: 0.6773 - val_accuracy: 0.7490\n",
            "INFO:tensorflow:Assets written to: models/bestModelCheckpoint/assets\n",
            "Epoch 88/100\n",
            "889/889 [==============================] - 2s 3ms/step - loss: 0.6949 - accuracy: 0.7374 - val_loss: 0.6788 - val_accuracy: 0.7464\n",
            "Epoch 89/100\n",
            "889/889 [==============================] - 2s 3ms/step - loss: 0.6928 - accuracy: 0.7410 - val_loss: 0.6780 - val_accuracy: 0.7500\n",
            "Epoch 90/100\n",
            "889/889 [==============================] - 2s 3ms/step - loss: 0.6888 - accuracy: 0.7412 - val_loss: 0.6780 - val_accuracy: 0.7477\n",
            "Epoch 91/100\n",
            "889/889 [==============================] - 2s 3ms/step - loss: 0.6840 - accuracy: 0.7456 - val_loss: 0.6774 - val_accuracy: 0.7473\n",
            "Epoch 92/100\n",
            "889/889 [==============================] - 3s 3ms/step - loss: 0.6942 - accuracy: 0.7398 - val_loss: 0.6780 - val_accuracy: 0.7468\n",
            "Epoch 93/100\n",
            "889/889 [==============================] - 2s 3ms/step - loss: 0.6894 - accuracy: 0.7456 - val_loss: 0.6770 - val_accuracy: 0.7474\n",
            "INFO:tensorflow:Assets written to: models/bestModelCheckpoint/assets\n",
            "Epoch 94/100\n",
            "889/889 [==============================] - 2s 3ms/step - loss: 0.6882 - accuracy: 0.7458 - val_loss: 0.6777 - val_accuracy: 0.7461\n",
            "Epoch 95/100\n",
            "889/889 [==============================] - 2s 3ms/step - loss: 0.6849 - accuracy: 0.7453 - val_loss: 0.6776 - val_accuracy: 0.7485\n",
            "Epoch 96/100\n",
            "889/889 [==============================] - 2s 3ms/step - loss: 0.6824 - accuracy: 0.7436 - val_loss: 0.6771 - val_accuracy: 0.7463\n",
            "Epoch 97/100\n",
            "889/889 [==============================] - 2s 3ms/step - loss: 0.6890 - accuracy: 0.7441 - val_loss: 0.6774 - val_accuracy: 0.7479\n",
            "Epoch 98/100\n",
            "889/889 [==============================] - 2s 3ms/step - loss: 0.6863 - accuracy: 0.7456 - val_loss: 0.6767 - val_accuracy: 0.7492\n",
            "INFO:tensorflow:Assets written to: models/bestModelCheckpoint/assets\n",
            "Epoch 99/100\n",
            "889/889 [==============================] - 2s 3ms/step - loss: 0.6918 - accuracy: 0.7437 - val_loss: 0.6773 - val_accuracy: 0.7484\n",
            "Epoch 100/100\n",
            "889/889 [==============================] - 2s 3ms/step - loss: 0.6862 - accuracy: 0.7442 - val_loss: 0.6784 - val_accuracy: 0.7485\n"
          ]
        }
      ],
      "source": [
        "CALLBACKS = [\n",
        "             ModelCheckpoint(filepath='models/bestModelCheckpoint', # Save and Store best model\n",
        "                             save_best_only=True, monitor='val_loss', mode='min'),\n",
        "             EarlyStopping(monitor='val_loss', mode='min', patience=20), # If my model doesn't improve every 20 epochs, stop training\n",
        "             ReduceLROnPlateau(factor=0.2, patience=10) # Reduce learning rate if model doesn't improve every 10 epochs\n",
        "]\n",
        "\n",
        "history = train_model(model, train_ds, valid_ds, callbacks=CALLBACKS, epochs=100)"
      ]
    },
    {
      "cell_type": "code",
      "execution_count": 405,
      "metadata": {
        "colab": {
          "base_uri": "https://localhost:8080/",
          "height": 404
        },
        "id": "TBRbfHzjD6YT",
        "outputId": "2d3e9900-4c6f-46d5-aff4-e9a1bd856e35"
      },
      "outputs": [
        {
          "data": {
            "image/png": "[encoded data removed]",
            "text/plain": [
              "<Figure size 576x432 with 1 Axes>"
            ]
          },
          "metadata": {
            "needs_background": "light",
            "tags": []
          },
          "output_type": "display_data"
        }
      ],
      "source": [
        "plt.figure(figsize=(8,6))\n",
        "plt.plot(history.history['accuracy'])\n",
        "plt.plot(history.history['val_accuracy'])\n",
        "plt.title('Accuracy vs. epochs')\n",
        "plt.ylabel('Accuracy')\n",
        "plt.xlabel('Epoch')\n",
        "plt.legend(['Training', 'Validation'], loc='lower right')\n",
        "plt.show()"
      ]
    },
    {
      "cell_type": "code",
      "execution_count": 406,
      "metadata": {
        "colab": {
          "base_uri": "https://localhost:8080/",
          "height": 404
        },
        "id": "Iu1T7AkeF2OY",
        "outputId": "5592c02b-18a5-4041-e60d-c6e9274e5159"
      },
      "outputs": [
        {
          "data": {
            "image/png": "[encoded data removed]",
            "text/plain": [
              "<Figure size 576x432 with 1 Axes>"
            ]
          },
          "metadata": {
            "needs_background": "light",
            "tags": []
          },
          "output_type": "display_data"
        }
      ],
      "source": [
        "plt.figure(figsize=(8,6))\n",
        "plt.plot(history.history['loss'])\n",
        "plt.plot(history.history['val_loss'])\n",
        "plt.title('Loss vs. epochs')\n",
        "plt.ylabel('Loss')\n",
        "plt.xlabel('Epoch')\n",
        "plt.legend(['Training', 'Validation'], loc='upper right')\n",
        "plt.show() "
      ]
    },
    {
      "cell_type": "code",
      "execution_count": 407,
      "metadata": {
        "colab": {
          "base_uri": "https://localhost:8080/"
        },
        "id": "ITXNF7YeF4yE",
        "outputId": "8417cfad-e832-42d6-dada-f7b1a1887428"
      },
      "outputs": [
        {
          "name": "stdout",
          "output_type": "stream",
          "text": [
            "Training Metrics\n",
            "Loss    : 0.669\n",
            "Accuracy: 0.755\n",
            "\n",
            "Validation Metrics\n",
            "Loss    : 0.678\n",
            "Accuracy: 0.749\n",
            "\n",
            "Testing Metrics\n",
            "Loss    : 0.679\n",
            "Accuracy: 0.746\n",
            "\n"
          ]
        }
      ],
      "source": [
        "datasets = {'Training': train_ds,\n",
        "            'Validation': valid_ds,\n",
        "            'Testing': test_ds}\n",
        "for key, ds in datasets.items():\n",
        "    print(f'{key} Metrics')\n",
        "    loss, acc  = model.evaluate(ds, verbose=0)\n",
        "    print(f'Loss    : {round(loss, 3)}')\n",
        "    print(f'Accuracy: {round(acc, 3)}\\n')"
      ]
    },
    {
      "cell_type": "markdown",
      "metadata": {
        "id": "5zJKofI6nkOF"
      },
      "source": [
        "## **Conclusion**\n",
        "\n",
        "It seems my neural network performed better than my baseline model. However, I know there are more things I could experiment and evaluate. *Data Science is about experimentation.* Here are a few take aways:\n",
        "\n",
        "- **Data Schema Validation**. I did verify that the exact same schema and distributions I had in my training set, also existed in my validation and testing set. This also can be a reason my model did better on validation than training. For example, `longitude_position_type` has 4 unique values, but only 3 are present in my training set. However, I think may only 2 to 5 exist in the entire dataset. Therefore I can actually remove the records that contain it since there's not much information there.\n",
        "- **Dive Deeper into EDA & Feature Engineering**. As stated in the beginning, my EDA and even Feature Engineering was minimal. I could've gotten more detailed information on my missing values, outliers, and improved the imbalance for the classes.\n",
        "- **Tried more models**. It would've been interesting to try MultiLabel models like OneVsRest that ultimately builds simpler models for each class. This would've allowed me to possibly get the best out of my data representation. I also could've been more creative with my neural network model.\n",
        "- **Unsupervised Learning**. I could've utilized unsupervised methods to help either help with feature engineering prior to modeling for the classification."
      ]
    },
    {
      "cell_type": "markdown",
      "metadata": {
        "id": "EYKcJI-fngU7"
      },
      "source": [
        "## **Sample Predictions**"
      ]
    },
    {
      "cell_type": "code",
      "execution_count": 565,
      "metadata": {
        "id": "Wn-VRiCNK6HO"
      },
      "outputs": [],
      "source": [
        "import pprint\n",
        "\n",
        "pp = pprint.PrettyPrinter()\n",
        "\n",
        "def get_random_sample(data, target):\n",
        "    idx = np.random.randint(0, data.shape[0])\n",
        "    sample = dict(data.iloc[idx])\n",
        "    target_value = sample.pop(target, None)\n",
        "\n",
        "    print(f'Index {idx}\\nTarget Value: {target_value}')\n",
        "    pp.pprint(sample)\n",
        "    print('')\n",
        "    return sample\n",
        "\n",
        "def predict_single_sample(model, sample):\n",
        "    input_dict = {name: tf.convert_to_tensor([value]) for name, value in sample.items()}\n",
        "    predictions = model.predict(input_dict)\n",
        "    prob_precent = round(100 * max(predictions.squeeze()), 2)\n",
        "\n",
        "    print(f\"This vehicle has a(n) {prob_precent}% chance of being a having {predictions.argmax()} tire(s) replaced.\")\n"
      ]
    },
    {
      "cell_type": "code",
      "execution_count": 461,
      "metadata": {
        "colab": {
          "base_uri": "https://localhost:8080/"
        },
        "id": "VRZoBhsfMSwm",
        "outputId": "c4eea442-2ee2-44a0-c7b2-e26b4af11632"
      },
      "outputs": [
        {
          "name": "stdout",
          "output_type": "stream",
          "text": [
            "Index 6655\n",
            "Target Value: 0\n"
          ]
        },
        {
          "data": {
            "text/plain": [
              "{'create_userguid': '44EB6DDE-3101-4519-AD59-67D3B5CE95E1',\n",
              " 'damage_code': 64,\n",
              " 'lateral_position_type': 'RIGHT',\n",
              " 'longitude_position_type': 'FRONT',\n",
              " 'mileage': 84989.0,\n",
              " 'model_year': 2016,\n",
              " 'rim_size_guid': 'DD2960A2-DFEF-B040-BB39-F4D03785BCDE',\n",
              " 'severity_code': 74,\n",
              " 'tire_brand_guid': 'FDD070AF-647C-944F-83B4-52346E9626B3',\n",
              " 'tread_depth_guid': '8B95CD4A-E78A-7042-875F-103DF2C670BC'}"
            ]
          },
          "execution_count": 461,
          "metadata": {
            "tags": []
          },
          "output_type": "execute_result"
        }
      ],
      "source": [
        "sample = get_random_sample(test, target)"
      ]
    },
    {
      "cell_type": "code",
      "execution_count": 462,
      "metadata": {
        "colab": {
          "base_uri": "https://localhost:8080/"
        },
        "id": "ZcHg2CR0MnTm",
        "outputId": "b17a8ded-8f23-452f-e618-62271b54ab2b"
      },
      "outputs": [
        {
          "name": "stdout",
          "output_type": "stream",
          "text": [
            "This vehicle has a(n) 80.01% chance of being a having 0 tire(s) replaced.\n"
          ]
        }
      ],
      "source": [
        "predict_single_sample(model, sample)"
      ]
    },
    {
      "cell_type": "code",
      "execution_count": 504,
      "metadata": {
        "colab": {
          "base_uri": "https://localhost:8080/"
        },
        "id": "t69r54VVNwi9",
        "outputId": "b07c597c-c4f3-4923-9716-5099c7f54e9e"
      },
      "outputs": [
        {
          "name": "stdout",
          "output_type": "stream",
          "text": [
            "Index 1529\n",
            "Target Value: 3\n",
            "This vehicle has a(n) 62.09% chance of being a having 0 tire(s) replaced.\n"
          ]
        }
      ],
      "source": [
        "predict_single_sample(model, get_random_sample(test, target))"
      ]
    },
    {
      "cell_type": "code",
      "execution_count": 474,
      "metadata": {
        "colab": {
          "base_uri": "https://localhost:8080/"
        },
        "id": "bQ1E27-DN_-2",
        "outputId": "cf0f45cf-fb77-42c0-bccd-322d3078e074"
      },
      "outputs": [
        {
          "name": "stdout",
          "output_type": "stream",
          "text": [
            "Index 1624\n",
            "Target Value: 2\n",
            "This vehicle has a(n) 75.45% chance of being a having 0 tire(s) replaced.\n"
          ]
        }
      ],
      "source": [
        "predict_single_sample(model, get_random_sample(test, target))"
      ]
    },
    {
      "cell_type": "code",
      "execution_count": 475,
      "metadata": {
        "colab": {
          "base_uri": "https://localhost:8080/"
        },
        "id": "eAontHqpOA-W",
        "outputId": "248b1384-ecd4-4d3b-f602-75a34ff3d10c"
      },
      "outputs": [
        {
          "name": "stdout",
          "output_type": "stream",
          "text": [
            "Index 3295\n",
            "Target Value: 4\n",
            "This vehicle has a(n) 99.53% chance of being a having 4 tire(s) replaced.\n"
          ]
        }
      ],
      "source": [
        "predict_single_sample(model, get_random_sample(test, target))"
      ]
    },
    {
      "cell_type": "markdown",
      "metadata": {
        "id": "rjJS6DOuqoQi"
      },
      "source": [
        "*Thank you for considering me for this test and position. Hopefully I was able to display and capture my thought process during this challenge.*"
      ]
    }
  ],
  "metadata": {
    "colab": {
      "collapsed_sections": [],
      "name": "DRIVINAssessment.ipynb",
      "provenance": []
    },
    "kernelspec": {
      "display_name": "Python 3",
      "name": "python3"
    }
  },
  "nbformat": 4,
  "nbformat_minor": 0
}
